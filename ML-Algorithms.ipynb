{
 "cells": [
  {
   "cell_type": "markdown",
   "metadata": {},
   "source": [
    "# Machine Learning Algorithms"
   ]
  },
  {
   "cell_type": "markdown",
   "metadata": {},
   "source": [
    "## KNN-Means"
   ]
  },
  {
   "cell_type": "markdown",
   "metadata": {},
   "source": [
    "### Load the dataset"
   ]
  },
  {
   "cell_type": "code",
   "execution_count": null,
   "metadata": {},
   "outputs": [],
   "source": [
    "def sqrdist(x, y):\n",
    "    # Tile the vector y to create a matrix of the same shape as x\n",
    "    \"\"\"\n",
    "        y : [[],\n",
    "             [],\n",
    "            ...,\n",
    "            []] with the same number of rows as x\n",
    "    \"\"\"\n",
    "    y = np.tile(y, (x.shape[0], 1))\n",
    "    \n",
    "    # Calculate the squared Euclidean distance between each row of x and y\n",
    "    squared_distance = np.square(x - y).sum(axis=1)\n",
    "    \n",
    "    # Take the square root to get the Euclidean distance\n",
    "    distance = np.sqrt(squared_distance)\n",
    "    \n",
    "    return distance"
   ]
  },
  {
   "cell_type": "code",
   "execution_count": null,
   "metadata": {},
   "outputs": [],
   "source": [
    "def knn_test(X, T, Xtest, K):\n",
    "    Ntest = Xtest.shape[0]\n",
    "    Ttest = np.zeros((Ntest, 2))\n",
    "    for n in range(Ntest):\n",
    "        d = sqrdist(X, Xtest[n,:])\n",
    "        # return the indices of the K closest instances\n",
    "        closest = np.argsort(d)[:K]\n",
    "        # get the predicted values of the closest instances\n",
    "        Tclosed = T[closest,:]\n",
    "        votes = Tclosed.sum(axis=0)\n",
    "        Ttest[n, np.argmax(votes)] = 1\n",
    "    return Ttest"
   ]
  },
  {
   "cell_type": "code",
   "execution_count": 5,
   "metadata": {},
   "outputs": [],
   "source": [
    "class KNN:\n",
    "    \n",
    "    def fit(self, X_train, y_train):\n",
    "        \"\"\"\n",
    "            x: x(i) = [xi1, xi2, ..., xin]\n",
    "            y: y(i) = class of xi\n",
    "        \"\"\"\n",
    "        self.X_train = X_train\n",
    "        self.y_train = y_train\n",
    "\n",
    "    def predict(self, X_test, K):\n",
    "        Ntest = X_test.shape[0]\n",
    "        for test_example in range(Ntest):\n",
    "            # Calculate the distance for all train examples\n",
    "            d = sqrdist(self.x_train, X_test[n,:])\n",
    "            # Return the indices of the K closest instances\n",
    "            closest = np.argsort(d)[:K]\n",
    "            # Find the k closest neighbours\n",
    "            Tclosed = T[closest,:]\n",
    "            \n"
   ]
  }
 ],
 "metadata": {
  "kernelspec": {
   "display_name": "Python 3",
   "language": "python",
   "name": "python3"
  },
  "language_info": {
   "codemirror_mode": {
    "name": "ipython",
    "version": 3
   },
   "file_extension": ".py",
   "mimetype": "text/x-python",
   "name": "python",
   "nbconvert_exporter": "python",
   "pygments_lexer": "ipython3",
   "version": "3.9.0"
  }
 },
 "nbformat": 4,
 "nbformat_minor": 2
}
