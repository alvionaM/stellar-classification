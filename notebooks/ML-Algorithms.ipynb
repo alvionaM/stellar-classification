{
 "cells": [
  {
   "cell_type": "markdown",
   "metadata": {},
   "source": [
    "# Machine Learning Algorithms"
   ]
  },
  {
   "cell_type": "markdown",
   "metadata": {},
   "source": [
    "## Imports"
   ]
  },
  {
   "cell_type": "code",
   "execution_count": 134,
   "metadata": {},
   "outputs": [],
   "source": [
    "import math\n",
    "import numpy as np\n",
    "import matplotlib.pyplot as plt\n",
    "from tqdm import tqdm\n",
    "\n",
    "from scipy.stats import multivariate_normal\n",
    "from statistics import mode\n",
    "\n",
    "import pandas as pd\n",
    "from IPython.display import display\n",
    "pd.set_option('display.max_rows', None)\n",
    "pd.set_option('display.max_columns', None)\n",
    "pd.set_option('display.width', 1000)\n",
    "pd.set_option('display.colheader_justify', 'center')\n",
    "pd.set_option('display.precision', 3)\n",
    "\n",
    "from sklearn import metrics\n",
    "from sklearn.metrics import accuracy_score\n",
    "from sklearn.metrics import classification_report\n",
    "from sklearn.model_selection import train_test_split\n",
    "\n",
    "from sklearn.neighbors import KNeighborsClassifier\n",
    "from sklearn.cluster import KMeans\n",
    "from sklearn.linear_model import RidgeClassifier\n",
    "from sklearn.naive_bayes import GaussianNB\n",
    "from sklearn.linear_model import SGDClassifier\n",
    "from sklearn.linear_model import LogisticRegression\n",
    "\n",
    "from sklearn.datasets import load_iris"
   ]
  },
  {
   "cell_type": "markdown",
   "metadata": {},
   "source": [
    "## General Purpose Methods"
   ]
  },
  {
   "cell_type": "markdown",
   "metadata": {},
   "source": [
    "### Distance"
   ]
  },
  {
   "cell_type": "code",
   "execution_count": 6,
   "metadata": {},
   "outputs": [],
   "source": [
    "class Distance:\n",
    "    @staticmethod\n",
    "    def squared_euclidean_distance(X,y):\n",
    "        # Tile the vector y to create a matrix with the same number \n",
    "        # of rows as X and the same number of columns as y\n",
    "        y = np.tile(y, (X.shape[0], 1))\n",
    "        \n",
    "        # Calculate the squared Euclidean distance between each row of x and y\n",
    "        squared_distance = np.square(X - y).sum(axis=1)\n",
    "        \n",
    "        return squared_distance\n",
    "\n",
    "    @staticmethod\n",
    "    def euclidean_distance(X, y):\n",
    "        squared_distance = Distance.squared_euclidean_distance(X,y)\n",
    "        \n",
    "        # Take the square root to get the Euclidean distance\n",
    "        distance = np.sqrt(squared_distance)\n",
    "    \n",
    "        return distance"
   ]
  },
  {
   "cell_type": "markdown",
   "metadata": {},
   "source": [
    "### Curves"
   ]
  },
  {
   "cell_type": "code",
   "execution_count": 353,
   "metadata": {},
   "outputs": [],
   "source": [
    "class Curve:\n",
    "    @staticmethod\n",
    "    def cross_validation_cost_evolution_curve(caption, costs):\n",
    "        # Select best hyperparameter\n",
    "        param = np.argmin(costs) + 1\n",
    "\n",
    "        # Plot the evolution of the validation error with respect to the best hyperparameter\n",
    "        plt.plot(range(1, len(costs)+1), costs * 100, marker='o', color='crimson')\n",
    "        plt.title('K-fold cross validation error evolution')\n",
    "        plt.ylabel('Average Validation Error %')\n",
    "        plt.xlabel(caption)\n",
    "        plt.show()\n",
    "        return param\n",
    "    \n",
    "    @staticmethod\n",
    "    def accuracy_evolution_curve(caption, accuracies):\n",
    "        # Select best hyperparameter\n",
    "        param = np.argmax(accuracies) + 1\n",
    "\n",
    "        # Plot the evolution of the validation error with respect to the best hyperparameter\n",
    "        plt.plot(range(1, len(accuracies)+1), accuracies, marker='o', color='#3B7A57')\n",
    "        plt.title('Accuracy evolution')\n",
    "        plt.ylabel('Accuracy')\n",
    "        plt.xlabel(caption)\n",
    "        plt.show()\n",
    "        return param\n",
    "    \n",
    "    @staticmethod\n",
    "    def cross_entropy_loss_curve(train_losses, test_losses):\n",
    "        # Plot the evolution of the cross entropy loss\n",
    "        plt.plot(range(1, len(train_losses)+1), train_losses, marker='.', color='crimson', label='Train set')\n",
    "        plt.plot(range(1, len(test_losses)+1), test_losses, marker='.', color='darkslateblue', label='Test set')\n",
    "        plt.suptitle('Cross entropy loss evolution', y=1.03)\n",
    "        plt.title(r'$L(\\hat y, y) = -\\frac{1}{N} \\sum_{i=1}^N {\\sum_{k=1}^K{y_i \\log(\\hat y_i)}}$')\n",
    "        plt.ylabel('Cross entropy loss')\n",
    "        plt.xlabel('Epoch')\n",
    "        plt.ylim(0,1)\n",
    "        plt.legend()\n",
    "        plt.show()\n",
    "    \n",
    "    @staticmethod\n",
    "    def EM_alg_cost_evolution_curve(costs):\n",
    "        total_iterations = len(costs)//2\n",
    "\n",
    "        # Plot the evolution of the cost function\n",
    "        for i in range(2*total_iterations-1):\n",
    "            # Alternate the marker color for costs calculated after an expectation step (even position) \n",
    "            # or a maximization step (odd position)\n",
    "            color = 'darkslateblue' if i % 2 == 0 else 'crimson'\n",
    "            label = 'After Expectation Step' if i == 0 else 'After Maximization Step' if i == 1 else ''\n",
    "            plt.plot([i, i+1], [costs[i], costs[i+1]], marker='o', mfc=color, mec=color, ms='7', ls=':', color='black', label=label)\n",
    "        last_point = 2*total_iterations-1\n",
    "        plt.plot(last_point, costs[last_point], marker='o', mfc='crimson', mec='crimson', ms='7')\n",
    "\n",
    "        plt.xlabel('Iteration')\n",
    "        plt.ylabel('Cost')\n",
    "        plt.suptitle('K-means cost evolution', y=1.03)\n",
    "        plt.title(r'Cost function: $\\frac{1}{2}\\sum_{i=1}^{N} ||\\mathbf{x}_{i} - \\mathbf{\\hat\\mu}_{\\hat y_{i}}||^{2}$')\n",
    "        plt.grid(True)\n",
    "        plt.legend()\n",
    "\n",
    "        iterations_ticks = [val for i in range(1, total_iterations + 1) for val in ['', i]]\n",
    "        plt.xticks(range(2*total_iterations), iterations_ticks)\n",
    "        \n",
    "        plt.show()\n",
    "\n",
    "        # Construct reporting table\n",
    "        data = []\n",
    "\n",
    "        for i in range(len(costs)):\n",
    "            iter = str(i//2)+'a' if i%2==0 else str(i//2)+'b'  # Increasing index for every 2 rows\n",
    "            step = 'E-step' if i % 2 == 0 else 'M-step'\n",
    "            cost = costs[i]\n",
    "            data.append({'Iteration': iter, 'Step': step, 'Cost': cost})\n",
    "\n",
    "        cost_evolution = pd.concat([pd.DataFrame([d]) for d in data], ignore_index=True).set_index('Iteration')\n",
    "\n",
    "        return cost_evolution\n",
    "        "
   ]
  },
  {
   "cell_type": "markdown",
   "metadata": {},
   "source": [
    "### Reporting Tables"
   ]
  },
  {
   "cell_type": "code",
   "execution_count": 8,
   "metadata": {},
   "outputs": [],
   "source": [
    "class Report:\n",
    "    @staticmethod\n",
    "    def gaussian_naive_bayes_parameters(caption, priors, means, covariance_matrix, num_classes, num_features):\n",
    "        \n",
    "        print(caption,\"- Priors\")\n",
    "        custom_priors_df = pd.DataFrame(priors.reshape(1, -1), columns=[f'Class_{i}' for i in range(num_classes)])\n",
    "        display(custom_priors_df)\n",
    "\n",
    "        print(caption,\" - Means\")\n",
    "        custom_means_df = pd.DataFrame(means, columns=[f'Feature_{i}' for i in range(num_features)], index=[f'Class_{i}' for i in range(num_classes)])\n",
    "        display(custom_means_df)\n",
    "\n",
    "        print(caption,\" - Covariance Matrix per class\")\n",
    "        for covariance in covariance_matrix:\n",
    "            custom_covariance_df = pd.DataFrame(covariance, columns=[f'Feature_{i}' for i in range(num_features)], index=[f'Feature_{i}' for i in range(num_features)])\n",
    "            display(custom_covariance_df)"
   ]
  },
  {
   "cell_type": "markdown",
   "metadata": {},
   "source": [
    "## Fetch Data"
   ]
  },
  {
   "cell_type": "markdown",
   "metadata": {},
   "source": [
    "### Load the User Modeling Dataset"
   ]
  },
  {
   "cell_type": "code",
   "execution_count": 176,
   "metadata": {},
   "outputs": [
    {
     "name": "stdout",
     "output_type": "stream",
     "text": [
      "    STG   SCG   STR   LPR   PEG     UNS  \n",
      "0  0.00  0.00  0.00  0.00  0.00  very_low\n",
      "1  0.08  0.08  0.10  0.24  0.90      High\n",
      "2  0.06  0.06  0.05  0.25  0.33       Low\n",
      "3  0.10  0.10  0.15  0.65  0.30    Middle\n",
      "4  0.08  0.08  0.08  0.98  0.24       Low\n",
      "5  0.09  0.15  0.40  0.10  0.66    Middle\n",
      "    STG   SCG   STR   LPR   PEG     UNS  \n",
      "0  0.00  0.10  0.50  0.26  0.05  Very Low\n",
      "1  0.05  0.05  0.55  0.60  0.14       Low\n",
      "2  0.08  0.18  0.63  0.60  0.85      High\n",
      "3  0.20  0.20  0.68  0.67  0.85      High\n",
      "4  0.22  0.22  0.90  0.30  0.90      High\n",
      "5  0.14  0.14  0.70  0.50  0.30       Low\n"
     ]
    }
   ],
   "source": [
    "user_training_data = pd.read_excel(\"../resources/user+knowledge+modeling/Data_User_Modeling_Dataset_Hamdi Tolga KAHRAMAN.xls\", sheet_name=\"Training_Data\")\n",
    "user_training_data = user_training_data.drop(columns=[\"Unnamed: 6\", \"Unnamed: 7\", \"Attribute Information:\"])\n",
    "print(user_training_data.head(6))\n",
    "\n",
    "user_test_data = pd.read_excel(\"../resources/user+knowledge+modeling/Data_User_Modeling_Dataset_Hamdi Tolga KAHRAMAN.xls\", sheet_name=\"Test_Data\")\n",
    "user_test_data = user_test_data.drop(columns=[\"Unnamed: 6\", \"Unnamed: 7\", \"Attribute Information:\"])\n",
    "print(user_test_data.head(6))"
   ]
  },
  {
   "cell_type": "markdown",
   "metadata": {},
   "source": [
    "### Load Iris dataset"
   ]
  },
  {
   "cell_type": "code",
   "execution_count": 177,
   "metadata": {},
   "outputs": [
    {
     "data": {
      "text/html": [
       "<div>\n",
       "<style scoped>\n",
       "    .dataframe tbody tr th:only-of-type {\n",
       "        vertical-align: middle;\n",
       "    }\n",
       "\n",
       "    .dataframe tbody tr th {\n",
       "        vertical-align: top;\n",
       "    }\n",
       "\n",
       "    .dataframe thead th {\n",
       "        text-align: right;\n",
       "    }\n",
       "</style>\n",
       "<table border=\"1\" class=\"dataframe\">\n",
       "  <thead>\n",
       "    <tr style=\"text-align: center;\">\n",
       "      <th></th>\n",
       "      <th>sepal length (cm)</th>\n",
       "      <th>sepal width (cm)</th>\n",
       "      <th>petal length (cm)</th>\n",
       "      <th>petal width (cm)</th>\n",
       "      <th>target</th>\n",
       "    </tr>\n",
       "  </thead>\n",
       "  <tbody>\n",
       "    <tr>\n",
       "      <th>0</th>\n",
       "      <td>5.1</td>\n",
       "      <td>3.5</td>\n",
       "      <td>1.4</td>\n",
       "      <td>0.2</td>\n",
       "      <td>0</td>\n",
       "    </tr>\n",
       "    <tr>\n",
       "      <th>1</th>\n",
       "      <td>4.9</td>\n",
       "      <td>3.0</td>\n",
       "      <td>1.4</td>\n",
       "      <td>0.2</td>\n",
       "      <td>0</td>\n",
       "    </tr>\n",
       "    <tr>\n",
       "      <th>2</th>\n",
       "      <td>4.7</td>\n",
       "      <td>3.2</td>\n",
       "      <td>1.3</td>\n",
       "      <td>0.2</td>\n",
       "      <td>0</td>\n",
       "    </tr>\n",
       "    <tr>\n",
       "      <th>3</th>\n",
       "      <td>4.6</td>\n",
       "      <td>3.1</td>\n",
       "      <td>1.5</td>\n",
       "      <td>0.2</td>\n",
       "      <td>0</td>\n",
       "    </tr>\n",
       "    <tr>\n",
       "      <th>4</th>\n",
       "      <td>5.0</td>\n",
       "      <td>3.6</td>\n",
       "      <td>1.4</td>\n",
       "      <td>0.2</td>\n",
       "      <td>0</td>\n",
       "    </tr>\n",
       "  </tbody>\n",
       "</table>\n",
       "</div>"
      ],
      "text/plain": [
       "   sepal length (cm)  sepal width (cm)  petal length (cm)  petal width (cm)  target\n",
       "0         5.1                3.5               1.4                0.2           0  \n",
       "1         4.9                3.0               1.4                0.2           0  \n",
       "2         4.7                3.2               1.3                0.2           0  \n",
       "3         4.6                3.1               1.5                0.2           0  \n",
       "4         5.0                3.6               1.4                0.2           0  "
      ]
     },
     "execution_count": 177,
     "metadata": {},
     "output_type": "execute_result"
    }
   ],
   "source": [
    "iris_data = load_iris(as_frame=True)\n",
    "iris_data.frame.head(5)"
   ]
  },
  {
   "cell_type": "markdown",
   "metadata": {},
   "source": [
    "### Data Preparation of Iris Dataset"
   ]
  },
  {
   "cell_type": "code",
   "execution_count": 178,
   "metadata": {},
   "outputs": [],
   "source": [
    "# split initial data into train and test (50 examples for test)\n",
    "X_train, X_test, y_train, y_test = train_test_split(iris_data.data.to_numpy(), \n",
    "                                                    iris_data.target.to_numpy(), \n",
    "                                                    test_size=50, random_state=42)\n",
    "\n",
    "\n",
    "# split rest of the train data into train and dev (50 examples for dev)\n",
    "X_train, X_dev, y_train, y_dev = train_test_split(X_train, y_train, \n",
    "                                                  test_size=50, random_state=42)"
   ]
  },
  {
   "cell_type": "markdown",
   "metadata": {},
   "source": [
    "### Data Preparation of User Modeling Dataset"
   ]
  },
  {
   "cell_type": "code",
   "execution_count": 209,
   "metadata": {},
   "outputs": [],
   "source": [
    "validation_size = 30\n",
    "y_keys = {\"VERYLOW\": 0, \"LOW\": 1, \"MIDDLE\": 2, \"HIGH\": 3}\n",
    "\n",
    "y_convert = lambda x: y_keys[x]\n",
    "\n",
    "# Randomly select 50 rows for validation\n",
    "validation_data = user_training_data.sample(n=validation_size, random_state=54)\n",
    "\n",
    "# Use the rest of the data for training\n",
    "training_data = user_training_data.drop(validation_data.index)\n",
    "\n",
    "training_data[' UNS'] = training_data[' UNS'].str.upper().str.strip().str.replace('_','').str.replace(' ', '')\n",
    "validation_data[' UNS'] = validation_data[' UNS'].str.upper().str.strip().str.replace('_','').str.replace(' ', '')\n",
    "user_test_data[' UNS'] = user_test_data[' UNS'].str.upper().str.strip().str.replace('_','').str.replace(' ', '')\n",
    "\n",
    "# Extract X_train and y_train from the training data\n",
    "X_train = np.array(training_data[['STG', 'SCG', 'STR', 'LPR', 'PEG']])\n",
    "y_train = np.array(list(map(y_convert, training_data[' UNS']))).astype(int)\n",
    "\n",
    "# Extract X_validation and y_validation from the validation data\n",
    "X_dev = np.array(validation_data[['STG', 'SCG', 'STR', 'LPR', 'PEG']])\n",
    "y_dev = np.array(list(map(y_convert, validation_data[' UNS']))).astype(int)\n",
    "\n",
    "# Extract X_test and y_test from the test data\n",
    "X_test = np.array(user_test_data[['STG', 'SCG', 'STR', 'LPR', 'PEG']])\n",
    "y_test = np.array(list(map(y_convert, user_test_data[' UNS']))).astype(int)\n"
   ]
  },
  {
   "cell_type": "markdown",
   "metadata": {},
   "source": [
    "## KNN Classification"
   ]
  },
  {
   "cell_type": "markdown",
   "metadata": {},
   "source": [
    "### Custom kNN Classifier"
   ]
  },
  {
   "cell_type": "markdown",
   "metadata": {},
   "source": [
    "Below, we implement the well-known kNN algorithm. Note that the Euclidean distance is used as the distance metric for measuring the distance between test set examples and train set examples. Next, two functions are included for finding the best value for the hyperparameter ($k$):\n",
    "\n",
    "1. Cross Validation Method (`k_fold_cross_validation`):\n",
    "This method performs cross-validation to find the best value for the hyperparameter $k$. It sets the error each time as the average validation error (across all folds in which the train set is divided each time). Finally, it returns the value of $k$ that resulted in the smallest error.\n",
    "\n",
    "2. Accuracy-based Validation Method (`accuracy_based_validation`):\n",
    "This method returns the first value of $k$ that provides the best accuracy on the validation data."
   ]
  },
  {
   "cell_type": "code",
   "execution_count": 167,
   "metadata": {},
   "outputs": [],
   "source": [
    "class kNN:\n",
    "    def __init__(self, k):\n",
    "        # k nearest neighbours hyperparameter\n",
    "        self.k = k\n",
    "\n",
    "        # X_train: n*m matrix (n examples, m features)\n",
    "        # X[i] = [xi1, xi2, ..., xim] for i=1 to n\n",
    "        self.X_train = None\n",
    "        \n",
    "        # y_train: n*1 vector (class of each example)\n",
    "        # y[i] = class of X[i]  for i=1 to n\n",
    "        self.y_train = None\n",
    "    \n",
    "    def fit(self, X_train, y_train):\n",
    "        self.X_train = X_train\n",
    "        self.y_train = y_train\n",
    "\n",
    "    def predict(self, X_test):\n",
    "        Ntest = X_test.shape[0]\n",
    "        predicted_classes = list()\n",
    "\n",
    "        for test_example_idx in range(Ntest):\n",
    "            # Calculate the distance for all train examples\n",
    "            d = Distance.euclidean_distance(self.X_train, X_test[test_example_idx,:])\n",
    "\n",
    "            # Return the indices of the K closest instances\n",
    "            k_closest = np.argsort(d)[:self.k]\n",
    "\n",
    "            # Find the classes of the k closest instances\n",
    "            y = self.y_train[k_closest]\n",
    "\n",
    "            # mode: returns the most frequent (majority vote)\n",
    "            predicted_classes.append(mode(y))\n",
    "\n",
    "        return np.array(predicted_classes)"
   ]
  },
  {
   "cell_type": "code",
   "execution_count": 168,
   "metadata": {},
   "outputs": [],
   "source": [
    "def k_fold_cross_validation(K, numFolds, X, y):\n",
    "    \"\"\"\n",
    "    Perform k-fold cross-validation for kNN.\n",
    "\n",
    "    Parameters:\n",
    "    - K: Number of nearest neighbors to test.\n",
    "    - numFolds: Number of folds for cross-validation.\n",
    "    - X: Training data features.\n",
    "    - y: Labels for the training data.\n",
    "\n",
    "    Returns:\n",
    "    - best_k: Best k value based on cross-validation.\n",
    "    \"\"\"\n",
    "\n",
    "    N = X.shape[0]\n",
    "    np.random.seed(10)\n",
    "    perm = np.random.permutation(N)\n",
    "    X = X[perm]\n",
    "    y = y[perm]\n",
    "\n",
    "    chunk_size = int(N / numFolds)\n",
    "    split_indices = np.arange(chunk_size, chunk_size * numFolds, chunk_size)\n",
    "\n",
    "    if chunk_size * numFolds < N:\n",
    "        split_indices[-1] = N - 1\n",
    "    else:\n",
    "        last_chunk = chunk_size\n",
    "\n",
    "    Xfolds = np.vsplit(X, split_indices)\n",
    "    yfolds = np.hsplit(y, split_indices)\n",
    "\n",
    "    errors = np.zeros((K, numFolds))\n",
    "\n",
    "    for k in tqdm(range(1, K + 1)):\n",
    "        for j in range(numFolds):\n",
    "            X_train = np.vstack([Xfolds[i] for i in range(len(Xfolds)) if i != j])\n",
    "            y_train = np.hstack([yfolds[i] for i in range(len(yfolds)) if i != j])\n",
    "            X_test = Xfolds[j]\n",
    "\n",
    "            knn = kNN(k)\n",
    "            knn.fit(X_train, y_train)\n",
    "            y_test = knn.predict(X_test)\n",
    "\n",
    "            # Compute the percent misclassified data points\n",
    "            errors[k - 1, j] = np.count_nonzero(y_test != yfolds[j]) / X_test.shape[0]\n",
    "            print(\"kNN for k = {}, fold # {}, error = {} \".format(k, j, errors[k - 1, j]))\n",
    "\n",
    "    val = errors.sum(axis=1) / numFolds\n",
    "\n",
    "    best_k = Curve.cross_validation_cost_evolution_curve(\"k Nearest Neighbours\", val)\n",
    "    \n",
    "    print('Smallest average error:', val[best_k - 1])\n",
    "    print('Best k:', best_k)\n",
    "\n",
    "    return best_k"
   ]
  },
  {
   "cell_type": "code",
   "execution_count": 180,
   "metadata": {},
   "outputs": [],
   "source": [
    "def accuracy_based_validation(K, X_train, y_train, X_dev, y_dev):\n",
    "  \"\"\"\n",
    "  Perform accuracy-based validation for the kNN algorithm.\n",
    "\n",
    "  Parameters:\n",
    "  - K: Number of nearest neighbors to test.\n",
    "  - X_train: Training data features.\n",
    "  - y_train: Labels for the training data.\n",
    "  - X_dev: Development data features for validation.\n",
    "  - y_dev: Labels for the development data.\n",
    "\n",
    "  Returns:\n",
    "  - best_k: The value of k that achieved the highest accuracy on the development data.\n",
    "  \"\"\"\n",
    "    \n",
    "  accuracies = np.zeros(K)\n",
    "\n",
    "  for k in tqdm(range(1, K + 1)):\n",
    "    knn = kNN(k)  # knn object with current k\n",
    "    knn.fit(X_train, y_train) # fit with current k in the training data\n",
    "\n",
    "    predictions = knn.predict(X_dev) # predict with current k using the development data\n",
    "    accuracy = accuracy_score(y_dev, predictions) # count accuracy\n",
    "    accuracies[k - 1] = accuracy\n",
    "    \n",
    "    print('Accuracy for k={0}: {1}'.format(k, accuracy))\n",
    "    \n",
    "  best_k = Curve.accuracy_evolution_curve(\"k Nearest Neighbours\", accuracies)\n",
    "    \n",
    "  print('Best dev accuracy:', accuracies[best_k - 1])\n",
    "  print('Best k:', best_k)\n",
    "\n",
    "  return best_k"
   ]
  },
  {
   "cell_type": "markdown",
   "metadata": {},
   "source": [
    "### Training & Testing"
   ]
  },
  {
   "cell_type": "markdown",
   "metadata": {},
   "source": [
    "#### Optimal value of the hyperparameter $k$"
   ]
  },
  {
   "cell_type": "markdown",
   "metadata": {},
   "source": [
    "Below we find the optimal value of the hyperparameter $k$ in the range [1, 10] -using both functions defined previously (`k_fold_cross_validation` and `accuracy_based_validation`)- and present our results for each value of $k$."
   ]
  },
  {
   "cell_type": "markdown",
   "metadata": {},
   "source": [
    "- `k_fold_cross_validation`"
   ]
  },
  {
   "cell_type": "code",
   "execution_count": 326,
   "metadata": {},
   "outputs": [
    {
     "name": "stderr",
     "output_type": "stream",
     "text": [
      "100%|██████████| 10/10 [00:00<00:00, 481.71it/s]"
     ]
    },
    {
     "name": "stdout",
     "output_type": "stream",
     "text": [
      "kNN for k = 1, fold # 0, error = 0.1 \n",
      "kNN for k = 1, fold # 1, error = 0.2 \n",
      "kNN for k = 1, fold # 2, error = 0.25 \n",
      "kNN for k = 1, fold # 3, error = 0.35 \n",
      "kNN for k = 1, fold # 4, error = 0.25 \n",
      "kNN for k = 1, fold # 5, error = 0.25 \n",
      "kNN for k = 1, fold # 6, error = 0.1 \n",
      "kNN for k = 1, fold # 7, error = 0.1 \n",
      "kNN for k = 1, fold # 8, error = 0.1276595744680851 \n",
      "kNN for k = 1, fold # 9, error = 0.0 \n",
      "kNN for k = 2, fold # 0, error = 0.1 \n",
      "kNN for k = 2, fold # 1, error = 0.2 \n",
      "kNN for k = 2, fold # 2, error = 0.25 \n",
      "kNN for k = 2, fold # 3, error = 0.35 \n",
      "kNN for k = 2, fold # 4, error = 0.25 \n",
      "kNN for k = 2, fold # 5, error = 0.25 \n",
      "kNN for k = 2, fold # 6, error = 0.1 \n",
      "kNN for k = 2, fold # 7, error = 0.1 \n",
      "kNN for k = 2, fold # 8, error = 0.1276595744680851 \n",
      "kNN for k = 2, fold # 9, error = 0.0 \n",
      "kNN for k = 3, fold # 0, error = 0.1 \n",
      "kNN for k = 3, fold # 1, error = 0.2 \n",
      "kNN for k = 3, fold # 2, error = 0.2 \n",
      "kNN for k = 3, fold # 3, error = 0.35 \n",
      "kNN for k = 3, fold # 4, error = 0.15 \n",
      "kNN for k = 3, fold # 5, error = 0.1 \n",
      "kNN for k = 3, fold # 6, error = 0.1 \n",
      "kNN for k = 3, fold # 7, error = 0.25 \n",
      "kNN for k = 3, fold # 8, error = 0.2127659574468085 \n",
      "kNN for k = 3, fold # 9, error = 1.0 \n",
      "kNN for k = 4, fold # 0, error = 0.1 \n",
      "kNN for k = 4, fold # 1, error = 0.15 \n",
      "kNN for k = 4, fold # 2, error = 0.2 \n",
      "kNN for k = 4, fold # 3, error = 0.35 \n",
      "kNN for k = 4, fold # 4, error = 0.15 \n",
      "kNN for k = 4, fold # 5, error = 0.15 \n",
      "kNN for k = 4, fold # 6, error = 0.15 \n",
      "kNN for k = 4, fold # 7, error = 0.15 \n",
      "kNN for k = 4, fold # 8, error = 0.14893617021276595 \n",
      "kNN for k = 4, fold # 9, error = 0.0 \n",
      "kNN for k = 5, fold # 0, error = 0.15 \n",
      "kNN for k = 5, fold # 1, error = 0.2 \n",
      "kNN for k = 5, fold # 2, error = 0.25 \n",
      "kNN for k = 5, fold # 3, error = 0.3 \n",
      "kNN for k = 5, fold # 4, error = 0.2 \n",
      "kNN for k = 5, fold # 5, error = 0.2 \n",
      "kNN for k = 5, fold # 6, error = 0.15 \n",
      "kNN for k = 5, fold # 7, error = 0.25 \n",
      "kNN for k = 5, fold # 8, error = 0.1702127659574468 \n",
      "kNN for k = 5, fold # 9, error = 1.0 \n",
      "kNN for k = 6, fold # 0, error = 0.1 \n",
      "kNN for k = 6, fold # 1, error = 0.25 \n",
      "kNN for k = 6, fold # 2, error = 0.25 \n",
      "kNN for k = 6, fold # 3, error = 0.3 \n",
      "kNN for k = 6, fold # 4, error = 0.2 \n",
      "kNN for k = 6, fold # 5, error = 0.2 \n",
      "kNN for k = 6, fold # 6, error = 0.15 \n",
      "kNN for k = 6, fold # 7, error = 0.15 \n",
      "kNN for k = 6, fold # 8, error = 0.14893617021276595 \n",
      "kNN for k = 6, fold # 9, error = 1.0 \n",
      "kNN for k = 7, fold # 0, error = 0.15 \n",
      "kNN for k = 7, fold # 1, error = 0.25 \n",
      "kNN for k = 7, fold # 2, error = 0.25 \n",
      "kNN for k = 7, fold # 3, error = 0.25 \n",
      "kNN for k = 7, fold # 4, error = 0.25 \n",
      "kNN for k = 7, fold # 5, error = 0.15 \n",
      "kNN for k = 7, fold # 6, error = 0.1 \n",
      "kNN for k = 7, fold # 7, error = 0.25 \n",
      "kNN for k = 7, fold # 8, error = 0.1702127659574468 \n",
      "kNN for k = 7, fold # 9, error = 1.0 \n",
      "kNN for k = 8, fold # 0, error = 0.1 \n",
      "kNN for k = 8, fold # 1, error = 0.25 \n",
      "kNN for k = 8, fold # 2, error = 0.3 \n",
      "kNN for k = 8, fold # 3, error = 0.25 \n",
      "kNN for k = 8, fold # 4, error = 0.15 \n",
      "kNN for k = 8, fold # 5, error = 0.1 \n",
      "kNN for k = 8, fold # 6, error = 0.1 \n",
      "kNN for k = 8, fold # 7, error = 0.2 \n",
      "kNN for k = 8, fold # 8, error = 0.1702127659574468 \n",
      "kNN for k = 8, fold # 9, error = 0.0 \n",
      "kNN for k = 9, fold # 0, error = 0.1 \n",
      "kNN for k = 9, fold # 1, error = 0.3 \n",
      "kNN for k = 9, fold # 2, error = 0.25 \n",
      "kNN for k = 9, fold # 3, error = 0.2 \n",
      "kNN for k = 9, fold # 4, error = 0.25 \n",
      "kNN for k = 9, fold # 5, error = 0.1 \n",
      "kNN for k = 9, fold # 6, error = 0.15 \n",
      "kNN for k = 9, fold # 7, error = 0.25 \n",
      "kNN for k = 9, fold # 8, error = 0.23404255319148937 \n",
      "kNN for k = 9, fold # 9, error = 0.0 \n",
      "kNN for k = 10, fold # 0, error = 0.1 \n",
      "kNN for k = 10, fold # 1, error = 0.3 \n",
      "kNN for k = 10, fold # 2, error = 0.3 \n",
      "kNN for k = 10, fold # 3, error = 0.25 \n",
      "kNN for k = 10, fold # 4, error = 0.25 \n",
      "kNN for k = 10, fold # 5, error = 0.1 \n",
      "kNN for k = 10, fold # 6, error = 0.15 \n",
      "kNN for k = 10, fold # 7, error = 0.25 \n",
      "kNN for k = 10, fold # 8, error = 0.19148936170212766 \n",
      "kNN for k = 10, fold # 9, error = 0.0 \n"
     ]
    },
    {
     "name": "stderr",
     "output_type": "stream",
     "text": [
      "\n"
     ]
    },
    {
     "data": {
      "image/png": "[encoded data removed]",
      "text/plain": [
       "<Figure size 640x480 with 1 Axes>"
      ]
     },
     "metadata": {},
     "output_type": "display_data"
    },
    {
     "name": "stdout",
     "output_type": "stream",
     "text": [
      "Smallest average error: 0.1548936170212766\n",
      "Best k: 4\n"
     ]
    }
   ],
   "source": [
    "K = 10 # Find the best k hyperparameter in range (1, K)\n",
    "numFolds = 10 # Number of folds for cross validation\n",
    "\n",
    "cross_val_best_k = k_fold_cross_validation(K, numFolds, X_train, y_train)"
   ]
  },
  {
   "cell_type": "markdown",
   "metadata": {},
   "source": [
    "- `accuracy_based_validation`"
   ]
  },
  {
   "cell_type": "code",
   "execution_count": 327,
   "metadata": {},
   "outputs": [
    {
     "name": "stderr",
     "output_type": "stream",
     "text": [
      "100%|██████████| 10/10 [00:00<00:00, 576.37it/s]"
     ]
    },
    {
     "name": "stdout",
     "output_type": "stream",
     "text": [
      "Accuracy for k=1: 0.84\n",
      "Accuracy for k=2: 0.84\n",
      "Accuracy for k=3: 0.84\n",
      "Accuracy for k=4: 0.84\n",
      "Accuracy for k=5: 0.86\n",
      "Accuracy for k=6: 0.84\n",
      "Accuracy for k=7: 0.8\n",
      "Accuracy for k=8: 0.82\n",
      "Accuracy for k=9: 0.8\n",
      "Accuracy for k=10: 0.8\n"
     ]
    },
    {
     "name": "stderr",
     "output_type": "stream",
     "text": [
      "\n"
     ]
    },
    {
     "data": {
      "image/png": "[encoded data removed]",
      "text/plain": [
       "<Figure size 640x480 with 1 Axes>"
      ]
     },
     "metadata": {},
     "output_type": "display_data"
    },
    {
     "name": "stdout",
     "output_type": "stream",
     "text": [
      "Best dev accuracy: 0.86\n",
      "Best k: 5\n"
     ]
    }
   ],
   "source": [
    "K = 10\n",
    "acc_based_best_k = accuracy_based_validation(K, X_train, y_train, X_dev, y_dev)"
   ]
  },
  {
   "cell_type": "markdown",
   "metadata": {},
   "source": [
    "#### Custom kNN Classifier"
   ]
  },
  {
   "cell_type": "markdown",
   "metadata": {},
   "source": [
    "- Using the `k_fold_cross_validation` result as $k$\n"
   ]
  },
  {
   "cell_type": "markdown",
   "metadata": {},
   "source": [
    "First, the values of the accuracy, precision, recall and f1-score metrics are presented for the train set. We anticipate the scores to equal 1.0 for the train set if k equals to 1: "
   ]
  },
  {
   "cell_type": "code",
   "execution_count": 183,
   "metadata": {},
   "outputs": [
    {
     "name": "stdout",
     "output_type": "stream",
     "text": [
      "              precision    recall  f1-score   support\n",
      "\n",
      "           0       0.94      0.75      0.83        20\n",
      "           1       0.86      0.99      0.92        67\n",
      "           2       1.00      0.89      0.94        70\n",
      "           3       0.96      1.00      0.98        51\n",
      "\n",
      "    accuracy                           0.93       208\n",
      "   macro avg       0.94      0.91      0.92       208\n",
      "weighted avg       0.94      0.93      0.93       208\n",
      "\n"
     ]
    }
   ],
   "source": [
    "best_k = cross_val_best_k\n",
    "\n",
    "# Training kNN Classifier\n",
    "knn_custom = kNN(best_k) \n",
    "knn_custom.fit(X_train, y_train)\n",
    "\n",
    "# Using kNN Classifier (train set)\n",
    "y_custom = knn_custom.predict(X_train)\n",
    "print(classification_report(y_train, y_custom))"
   ]
  },
  {
   "cell_type": "markdown",
   "metadata": {},
   "source": [
    "Now, the values of the same metrics are presented for the test set. We anticipate lower values for the respective metrics than those calculated for the train set:"
   ]
  },
  {
   "cell_type": "code",
   "execution_count": 184,
   "metadata": {},
   "outputs": [
    {
     "name": "stdout",
     "output_type": "stream",
     "text": [
      "              precision    recall  f1-score   support\n",
      "\n",
      "           0       0.90      0.73      0.81        26\n",
      "           1       0.74      0.93      0.83        46\n",
      "           2       0.89      0.74      0.81        34\n",
      "           3       0.97      0.95      0.96        39\n",
      "\n",
      "    accuracy                           0.86       145\n",
      "   macro avg       0.88      0.84      0.85       145\n",
      "weighted avg       0.87      0.86      0.85       145\n",
      "\n"
     ]
    }
   ],
   "source": [
    "# Using kNN Classifier (test set)\n",
    "y_custom = knn_custom.predict(X_test)\n",
    "print(classification_report(y_test, y_custom))"
   ]
  },
  {
   "cell_type": "markdown",
   "metadata": {},
   "source": [
    "- Using the `accuracy_based_validation` result as $k$"
   ]
  },
  {
   "cell_type": "markdown",
   "metadata": {},
   "source": [
    "We repeat the process for both the train set and the test set:"
   ]
  },
  {
   "cell_type": "code",
   "execution_count": 185,
   "metadata": {},
   "outputs": [
    {
     "name": "stdout",
     "output_type": "stream",
     "text": [
      "              precision    recall  f1-score   support\n",
      "\n",
      "           0       0.93      0.65      0.76        20\n",
      "           1       0.82      0.97      0.89        67\n",
      "           2       0.94      0.86      0.90        70\n",
      "           3       0.94      0.94      0.94        51\n",
      "\n",
      "    accuracy                           0.89       208\n",
      "   macro avg       0.91      0.85      0.87       208\n",
      "weighted avg       0.90      0.89      0.89       208\n",
      "\n",
      "              precision    recall  f1-score   support\n",
      "\n",
      "           0       1.00      0.54      0.70        26\n",
      "           1       0.69      0.96      0.80        46\n",
      "           2       0.81      0.74      0.77        34\n",
      "           3       0.97      0.90      0.93        39\n",
      "\n",
      "    accuracy                           0.81       145\n",
      "   macro avg       0.87      0.78      0.80       145\n",
      "weighted avg       0.85      0.81      0.81       145\n",
      "\n"
     ]
    }
   ],
   "source": [
    "best_k = acc_based_best_k\n",
    "\n",
    "# Training kNN Classifier\n",
    "knn_custom = kNN(best_k) \n",
    "knn_custom.fit(X_train, y_train)\n",
    "\n",
    "# Using kNN Classifier (train set)\n",
    "y_custom = knn_custom.predict(X_train)\n",
    "print(classification_report(y_train, y_custom))\n",
    "\n",
    "# Using kNN Classifier (test set)\n",
    "y_custom = knn_custom.predict(X_test)\n",
    "print(classification_report(y_test, y_custom))"
   ]
  },
  {
   "cell_type": "markdown",
   "metadata": {},
   "source": [
    "We can observe that the result of `k_fold_cross_validation` performs better on the test set (while on the train set both results yield maximum scores, as expected)."
   ]
  },
  {
   "cell_type": "markdown",
   "metadata": {},
   "source": [
    "#### Scikit-Learn kNN Classifier"
   ]
  },
  {
   "cell_type": "markdown",
   "metadata": {},
   "source": [
    "As implied by the last observation, the result of `k_fold_cross_validation` performs better and hence we will use it to train the Scikit-Learn's algorithm."
   ]
  },
  {
   "cell_type": "markdown",
   "metadata": {},
   "source": [
    "First, the values of the accuracy, precision, recall and f1-score metrics are presented for the train set:"
   ]
  },
  {
   "cell_type": "code",
   "execution_count": 187,
   "metadata": {},
   "outputs": [
    {
     "name": "stdout",
     "output_type": "stream",
     "text": [
      "              precision    recall  f1-score   support\n",
      "\n",
      "           0       0.79      0.75      0.77        20\n",
      "           1       0.81      0.94      0.87        67\n",
      "           2       0.91      0.83      0.87        70\n",
      "           3       0.96      0.88      0.92        51\n",
      "\n",
      "    accuracy                           0.87       208\n",
      "   macro avg       0.87      0.85      0.86       208\n",
      "weighted avg       0.88      0.87      0.87       208\n",
      "\n"
     ]
    }
   ],
   "source": [
    "best_k = cross_val_best_k\n",
    "\n",
    "# Training kNN Classifier\n",
    "knn_scikit = KNeighborsClassifier(n_neighbors=best_k) \n",
    "knn_scikit.fit(X_train, y_train)\n",
    "\n",
    "# Using kNN Classifier (train set)\n",
    "y_scikit = knn_scikit.predict(X_train)\n",
    "print(classification_report(y_train, y_scikit))"
   ]
  },
  {
   "cell_type": "markdown",
   "metadata": {},
   "source": [
    "Now, the values of the same metrics are presented for the test set. We anticipate lower values for the respective metrics than those calculated for the train set:"
   ]
  },
  {
   "cell_type": "code",
   "execution_count": 188,
   "metadata": {},
   "outputs": [
    {
     "name": "stdout",
     "output_type": "stream",
     "text": [
      "              precision    recall  f1-score   support\n",
      "\n",
      "           0       0.84      0.81      0.82        26\n",
      "           1       0.76      0.91      0.83        46\n",
      "           2       0.83      0.74      0.78        34\n",
      "           3       0.97      0.87      0.92        39\n",
      "\n",
      "    accuracy                           0.84       145\n",
      "   macro avg       0.85      0.83      0.84       145\n",
      "weighted avg       0.85      0.84      0.84       145\n",
      "\n"
     ]
    }
   ],
   "source": [
    "# Using kNN Classifier (test set)\n",
    "y_scikit = knn_scikit.predict(X_test)\n",
    "print(classification_report(y_test, y_scikit))"
   ]
  },
  {
   "cell_type": "markdown",
   "metadata": {},
   "source": [
    "####  Observations"
   ]
  },
  {
   "cell_type": "markdown",
   "metadata": {},
   "source": [
    "TEXT HERE"
   ]
  },
  {
   "cell_type": "markdown",
   "metadata": {},
   "source": [
    "## K-means Clustering"
   ]
  },
  {
   "cell_type": "markdown",
   "metadata": {},
   "source": [
    "Below, we implement the well-known k-means clustering algorithm, an E-M algorithm. Note that the squared Euclidean distance is used as the distance metric during the expectation step.\n",
    "Regarding the cantroid initialization, there are two well known methods:\n",
    "\n",
    "1. <b>Random data points</b>: In this approach, $k$ random data points are selected from the dataset and used as the initial centroids.\n",
    "\n",
    "2. <b>K-means++</b>: As spreading out the initial centroids is thought to be a worthy goal, k-means++ pursues this by assigning the first centroid to the location of a randomly selected data point, and then choosing the subsequent centroids from the remaining data points based on a probability proportional to the squared distance away from a given point's nearest existing centroid.\n",
    "\n",
    "[Centroid initialization](https://www.kdnuggets.com/2020/06/centroid-initialization-k-means-clustering.html)\n",
    "\n",
    "In our implementation we initialize the centroids using the first method."
   ]
  },
  {
   "cell_type": "markdown",
   "metadata": {},
   "source": [
    "### Custom k-means"
   ]
  },
  {
   "cell_type": "code",
   "execution_count": 363,
   "metadata": {},
   "outputs": [],
   "source": [
    "class kMeans:\n",
    "    def __init__(self, k, max_iters):\n",
    "        # k = number of clusters\n",
    "        self.k = k\n",
    "        # define the maximum number of iterations\n",
    "        self.max_iters = max_iters\n",
    "        # the centroids for all labels\n",
    "        self.centroids = None\n",
    "\n",
    "    @staticmethod\n",
    "    def cost_function(X, c, labels): \n",
    "        return 0.5*sum(Distance.squared_euclidean_distance(X[i].reshape((1,X[i].shape[0])), c[labels[i]]) for i in range(X.shape[0]))\n",
    "    \n",
    "    def fit(self, X):\n",
    "        # Choose k random points of data as centroids\n",
    "        indices = np.random.choice(X.shape[0], self.k, replace=False)\n",
    "        self.centroids = X[indices]\n",
    "\n",
    "        costs = list()\n",
    "\n",
    "        for _ in range(self.max_iters):\n",
    "            # Expectation step\n",
    "            labels = self.predict(X)  # Assign each data point to the nearest centroid\n",
    "            costs.append(self.cost_function(X, self.centroids, labels).item()) # Calculate the cost \n",
    "\n",
    "            # Maximization step\n",
    "            new_centroids = np.array([np.mean(X[labels == label], axis=0) for label in range(self.k)])\n",
    "            costs.append(self.cost_function(X, new_centroids, labels).item()) # Calculate the new cost\n",
    "            \n",
    "            # If the algorithm has converged, then stop\n",
    "            if np.all(self.centroids == new_centroids):\n",
    "                break\n",
    "                \n",
    "            self.centroids = new_centroids\n",
    "\n",
    "        iters = len(costs)//2\n",
    "        return costs, iters\n",
    "\n",
    "    def predict(self, X):\n",
    "        # Assign each data point to the nearest centroid \n",
    "        distances = np.array([Distance.squared_euclidean_distance(self.centroids, x) for x in X])\n",
    "        labels = np.argmin(distances, axis=1)\n",
    "\n",
    "        return labels\n"
   ]
  },
  {
   "cell_type": "markdown",
   "metadata": {},
   "source": [
    "### Training & Testing"
   ]
  },
  {
   "cell_type": "markdown",
   "metadata": {},
   "source": [
    "💡We will use the KMeans algorithm to cluster the observations of the training set (X_train), as clustering is commonly performed for grouping existing observations rather than predicting the cluster to which a new observation would belong. \n",
    "\n",
    "❗For evaluating the algorithm's performance, it is crucial to note that the cluster labels assigned by KMeans may not necessarily align with the true class labels. Therefore, other evaluation metrics should be employed, that take into account whether observations that normally belong to the same class are indeed found in the same cluster.\n",
    "\n",
    "✔️We are going to use 3 commonly used clustering performance evaluation metrics (given that the ground truth is known):\n",
    "1. <b>Adjusted Rand Index</b>: It is a function that measures the similarity of the two assignments, ignoring permutations:\n",
    "    - $ARI = (RI - Expected_{RI}) / (max(RI) - Expected_{RI})$ <br> where $RI$ = (number of agreeing pairs) / (number of pairs)\n",
    "    - The score range is [-1, 1]. Lower values indicate different labelings, similar clusterings have a high index and 1 is the perfect match score.\n",
    "\n",
    "<br>\n",
    "    \n",
    "2. <b>Adjusted Mutual Information</b>: It is a function that measures the agreement of the two assignments, ignoring permutations. Two different normalized versions of this measure are available, Normalized Mutual Information (NMI) and Adjusted Mutual Information (AMI). NMI is often used in the literature, while AMI was proposed more recently and is normalized against chance. We will use AMI.\n",
    "    - Values close to 0 indicate two label assignments that are largely independent, while values close to 1 indicate significant agreement. Further, an AMI of exactly 1 indicates that the two label assignments are equal (with or without permutation).\n",
    "\n",
    "<br>\n",
    "\n",
    "3. <b>Fowlkes-Mallows Index</b>: It is defined as the geometric mean of the pairwise precision and recall:\n",
    "    - $FMI = \\frac{TP}{\\sqrt{(TP+FP)(TP+FN)}}$\n",
    "    - The score ranges from 0 to 1. A high value indicates a good similarity between two clusters.\n",
    "\n",
    "[Clustering performance evaluation](https://scikit-learn.org/stable/modules/clustering.html#clustering-performance-evaluation)"
   ]
  },
  {
   "cell_type": "markdown",
   "metadata": {},
   "source": [
    "Lastly, note that the hyperparameter $k$ is set to be equal to the number of classes"
   ]
  },
  {
   "cell_type": "markdown",
   "metadata": {},
   "source": [
    "#### Custom k-means"
   ]
  },
  {
   "cell_type": "code",
   "execution_count": 162,
   "metadata": {},
   "outputs": [
    {
     "name": "stdout",
     "output_type": "stream",
     "text": [
      "Adjusted Rand Index (ARI):  0.7984976422853383\n",
      "Adjusted Mutual Information (AMI):  0.773193156467274\n",
      "Fowlkes-Mallows Index (FM):  0.8636363636363638\n"
     ]
    }
   ],
   "source": [
    "num_of_classes = len(np.unique(y_train))\n",
    "max_iters = 100\n",
    "\n",
    "# Training k-means\n",
    "k_means_custom = kMeans(num_of_classes, max_iters) \n",
    "costs, iters = k_means_custom.fit(X_train)\n",
    "\n",
    "# Using k-means \n",
    "y_custom = k_means_custom.predict(X_train)\n",
    "\n",
    "# Evaluation of clustering performance using appropriate metrics\n",
    "ari = metrics.adjusted_rand_score(y_train, y_custom)\n",
    "ami = metrics.adjusted_mutual_info_score(y_train, y_custom)\n",
    "fm = metrics.fowlkes_mallows_score(y_train, y_custom)\n",
    "\n",
    "print(\"Adjusted Rand Index (ARI): \", ari)\n",
    "print(\"Adjusted Mutual Information (AMI): \", ami)\n",
    "print(\"Fowlkes-Mallows Index (FM): \", fm)"
   ]
  },
  {
   "cell_type": "code",
   "execution_count": 163,
   "metadata": {},
   "outputs": [
    {
     "name": "stdout",
     "output_type": "stream",
     "text": [
      "Iterations run:  4\n",
      "Final Cost:  13.23392105263158\n",
      "Centroids: \n",
      " [[4.94736842 3.38947368 1.46315789 0.25263158]\n",
      " [5.8        2.6875     4.2625     1.35      ]\n",
      " [6.93333333 3.         5.72666667 1.96666667]]\n"
     ]
    }
   ],
   "source": [
    "# Results\n",
    "print(\"Iterations run: \", iters)\n",
    "print(\"Final Cost: \", costs[-1])\n",
    "print(\"Centroids: \\n\", k_means_custom.centroids)"
   ]
  },
  {
   "cell_type": "code",
   "execution_count": 164,
   "metadata": {},
   "outputs": [
    {
     "data": {
      "image/png": "[encoded data removed]",
      "text/plain": [
       "<Figure size 640x480 with 1 Axes>"
      ]
     },
     "metadata": {},
     "output_type": "display_data"
    },
    {
     "data": {
      "text/html": [
       "<div>\n",
       "<style scoped>\n",
       "    .dataframe tbody tr th:only-of-type {\n",
       "        vertical-align: middle;\n",
       "    }\n",
       "\n",
       "    .dataframe tbody tr th {\n",
       "        vertical-align: top;\n",
       "    }\n",
       "\n",
       "    .dataframe thead th {\n",
       "        text-align: right;\n",
       "    }\n",
       "</style>\n",
       "<table border=\"1\" class=\"dataframe\">\n",
       "  <thead>\n",
       "    <tr style=\"text-align: center;\">\n",
       "      <th></th>\n",
       "      <th>Step</th>\n",
       "      <th>Cost</th>\n",
       "    </tr>\n",
       "    <tr>\n",
       "      <th>Iteration</th>\n",
       "      <th></th>\n",
       "      <th></th>\n",
       "    </tr>\n",
       "  </thead>\n",
       "  <tbody>\n",
       "    <tr>\n",
       "      <th>0a</th>\n",
       "      <td>E-step</td>\n",
       "      <td>89.825</td>\n",
       "    </tr>\n",
       "    <tr>\n",
       "      <th>0b</th>\n",
       "      <td>M-step</td>\n",
       "      <td>26.897</td>\n",
       "    </tr>\n",
       "    <tr>\n",
       "      <th>1a</th>\n",
       "      <td>E-step</td>\n",
       "      <td>17.559</td>\n",
       "    </tr>\n",
       "    <tr>\n",
       "      <th>1b</th>\n",
       "      <td>M-step</td>\n",
       "      <td>14.054</td>\n",
       "    </tr>\n",
       "    <tr>\n",
       "      <th>2a</th>\n",
       "      <td>E-step</td>\n",
       "      <td>13.618</td>\n",
       "    </tr>\n",
       "    <tr>\n",
       "      <th>2b</th>\n",
       "      <td>M-step</td>\n",
       "      <td>13.234</td>\n",
       "    </tr>\n",
       "    <tr>\n",
       "      <th>3a</th>\n",
       "      <td>E-step</td>\n",
       "      <td>13.234</td>\n",
       "    </tr>\n",
       "    <tr>\n",
       "      <th>3b</th>\n",
       "      <td>M-step</td>\n",
       "      <td>13.234</td>\n",
       "    </tr>\n",
       "  </tbody>\n",
       "</table>\n",
       "</div>"
      ],
      "text/plain": [
       "            Step    Cost \n",
       "Iteration                \n",
       "0a         E-step  89.825\n",
       "0b         M-step  26.897\n",
       "1a         E-step  17.559\n",
       "1b         M-step  14.054\n",
       "2a         E-step  13.618\n",
       "2b         M-step  13.234\n",
       "3a         E-step  13.234\n",
       "3b         M-step  13.234"
      ]
     },
     "metadata": {},
     "output_type": "display_data"
    }
   ],
   "source": [
    "# The evolution of the cost function\n",
    "report_cost_evolution = Curve.EM_alg_cost_evolution_curve(costs)\n",
    "display(report_cost_evolution)"
   ]
  },
  {
   "cell_type": "markdown",
   "metadata": {},
   "source": [
    "#### Scikit-learn k-means"
   ]
  },
  {
   "cell_type": "markdown",
   "metadata": {},
   "source": [
    "We set the centroid initialization method to be \"random\" in Scikit-Learn's implementation as well, for comparison purposes."
   ]
  },
  {
   "cell_type": "code",
   "execution_count": 165,
   "metadata": {},
   "outputs": [
    {
     "name": "stderr",
     "output_type": "stream",
     "text": [
      "c:\\Users\\trian\\AppData\\Local\\Programs\\Python\\Python311\\Lib\\site-packages\\sklearn\\cluster\\_kmeans.py:1416: FutureWarning: The default value of `n_init` will change from 10 to 'auto' in 1.4. Set the value of `n_init` explicitly to suppress the warning\n",
      "  super()._check_params_vs_input(X, default_n_init=10)\n"
     ]
    },
    {
     "name": "stdout",
     "output_type": "stream",
     "text": [
      "Adjusted Rand Index (ARI):  0.8432759439997076\n",
      "Adjusted Mutual Information (AMI):  0.8153666095462989\n",
      "Fowlkes-Mallows Index (FM):  0.8939393939393938\n"
     ]
    }
   ],
   "source": [
    "# Training k-means\n",
    "k_means_scikit = KMeans(n_clusters=num_of_classes, init=\"random\")\n",
    "k_means_scikit.fit(X_train)\n",
    "\n",
    "# Using k-means\n",
    "y_scikit = k_means_scikit.predict(X_train)\n",
    "\n",
    "# Evaluate clustering performance using appropriate metrics\n",
    "ari = metrics.adjusted_rand_score(y_train, y_scikit)\n",
    "ami = metrics.adjusted_mutual_info_score(y_train, y_scikit)\n",
    "fm = metrics.fowlkes_mallows_score(y_train, y_scikit)\n",
    "\n",
    "print(\"Adjusted Rand Index (ARI): \", ari)\n",
    "print(\"Adjusted Mutual Information (AMI): \", ami)\n",
    "print(\"Fowlkes-Mallows Index (FM): \", fm)"
   ]
  },
  {
   "cell_type": "code",
   "execution_count": 166,
   "metadata": {},
   "outputs": [
    {
     "name": "stdout",
     "output_type": "stream",
     "text": [
      "Iterations run:  4\n",
      "Final Cost:  13.200691885964913\n",
      "Centroids: \n",
      " [[5.76666667 2.68       4.20666667 1.34      ]\n",
      " [6.89375    2.9875     5.6875     1.9375    ]\n",
      " [4.94736842 3.38947368 1.46315789 0.25263158]]\n"
     ]
    }
   ],
   "source": [
    "# Results\n",
    "print(\"Iterations run: \", k_means_scikit.n_iter_)\n",
    "print(\"Final Cost: \", 1/2 * k_means_scikit.inertia_)    # inertia does not include an 1/2 factor as we did in our implementation, so we need to multiply it to be able to compare the 2 costs\n",
    "print(\"Centroids: \\n\", k_means_scikit.cluster_centers_)"
   ]
  },
  {
   "cell_type": "markdown",
   "metadata": {},
   "source": [
    "### Observations"
   ]
  },
  {
   "cell_type": "markdown",
   "metadata": {},
   "source": [
    "TEXT"
   ]
  },
  {
   "cell_type": "markdown",
   "metadata": {},
   "source": [
    "## Principal Component Analysis"
   ]
  },
  {
   "cell_type": "markdown",
   "metadata": {},
   "source": [
    "### With SVD & Classic PCA"
   ]
  },
  {
   "cell_type": "code",
   "execution_count": 158,
   "metadata": {},
   "outputs": [],
   "source": [
    "class PCA:\n",
    "    def __init__(self, m):\n",
    "        self.m = m\n",
    "\n",
    "    def svd_reduction(self, X):\n",
    "        U, S, V = np.linalg.svd(X, full_matrices=False)\n",
    "        print( \"U\", U.shape, \"S\", S.shape, \"V\", V.shape )\n",
    "        mu = X.mean(axis=0)\n",
    "\n",
    "        eigvecs = V[:self.m,:]\n",
    "        eigvals = S[:self.m]\n",
    "        print( 'X', X.shape, 'eigvecs', eigvecs.shape, 'eigvals', eigvals.shape )\n",
    "        Z = (X-mu).dot(eigvecs.T)\n",
    "        print( 'Z', Z.shape )\n",
    "        return Z, eigvecs, eigvals, mu\n",
    "    \n",
    "    def classic_reduction(self, X):\n",
    "        mu = X.mean(axis=0).reshape( (1,-1) )\n",
    "\n",
    "        normalized_X = X-mu\n",
    "\n",
    "        S = (1/X.shape[0]) * normalized_X.T.dot( normalized_X )\n",
    "\n",
    "        eigvectors, eigvals = self.eigsort( S )\n",
    "\n",
    "        U = eigvectors[:,:self.m]\n",
    "        Lambdas = eigvals[:self.m]\n",
    "        print( X.shape, U.shape, Lambdas.shape )\n",
    "\n",
    "        Z = normalized_X.dot(U)\n",
    "        return Z, U, Lambdas, mu\n",
    "    \n",
    "    def eigsort(self, A):\n",
    "        eigvals, U = np.linalg.eig(A)\n",
    "        # sort eigenvalues in descending order\n",
    "        order = np.argsort(eigvals)[::-1]\n",
    "        eigvals = eigvals[order]\n",
    "        #re-arrange the eigenvectors\n",
    "        U = U[:,order]\n",
    "        return U, eigvals"
   ]
  },
  {
   "cell_type": "code",
   "execution_count": 159,
   "metadata": {},
   "outputs": [
    {
     "name": "stdout",
     "output_type": "stream",
     "text": [
      "U (50, 4) S (4,) V (4, 4)\n",
      "X (50, 4) eigvecs (3, 4) eigvals (3,)\n",
      "Z (50, 3)\n",
      "(50, 3)\n"
     ]
    }
   ],
   "source": [
    "m = 3\n",
    "\n",
    "iris_data = load_iris(as_frame=True)\n",
    "iris_data.frame\n",
    "\n",
    "# split initial data into train and test (50 examples for test)\n",
    "X_train, X_test, y_train, y_test = train_test_split(iris_data.data.to_numpy(), \n",
    "                                                    iris_data.target.to_numpy(), \n",
    "                                                    test_size=50)\n",
    "\n",
    "\n",
    "# split rest of the train data into train and dev (50 examples for dev)\n",
    "X_train, X_dev, y_train, y_dev = train_test_split(X_train, y_train, \n",
    "                                                  test_size=50)\n",
    "\n",
    "pca = PCA(m)\n",
    "z, eva, eve, mu = pca.svd_reduction(X_train)\n",
    "print(z.shape)"
   ]
  },
  {
   "cell_type": "code",
   "execution_count": 160,
   "metadata": {},
   "outputs": [
    {
     "name": "stdout",
     "output_type": "stream",
     "text": [
      "(50, 4) (4, 3) (3,)\n",
      "(50, 3)\n"
     ]
    }
   ],
   "source": [
    "z, u, eva, mu = pca.classic_reduction(X_train)\n",
    "print(z.shape)"
   ]
  },
  {
   "cell_type": "markdown",
   "metadata": {},
   "source": [
    "## Least Squares Classification"
   ]
  },
  {
   "cell_type": "markdown",
   "metadata": {},
   "source": [
    "Consider a classification problem with  classes, with a 1-of-K binary coding scheme for the target vector t. Each class $C_k$ has its own linear model.\n",
    "\n",
    "Each class $C_k$ is described by its own linear model so that: $y_k(\\mathbf{x})=\\mathbf{w}_k^T \\mathbf{x} + w_{k0}$ where k=1,...,K, or, using vector notation: $$\\mathbf{ y(x) = {\\tilde W}^T \\tilde x }$$\n",
    "\n",
    "where $\\mathbf{\\tilde W}$ is a matrix whose $k^{th}$ column comprises the $D+1$-dimensional vector $ \\mathbf {\\tilde w}_k = (w_{k0} ; \\mathbf{w}_k^T)^T$ and $ \\mathbf {\\tilde x}$ is the corresponding augmented input vector $(1;\\mathbf{x}^T)^T$ with a dummy input $x_0 = 1$. Assign new input $\\mathbf x$ to the class $C_k$ if $k=argmax\\;y_j (\\mathbf x)$. Consider a training data set $\\{\\mathbf {x}_n, \\mathbf {t}_n \\}$ where $n=1,...,N$ and define a matrix $\\mathbf T$ whose $n^{th}$ row is the vector $\\mathbf{t}_n^T$.\n",
    "\n",
    "The sum-of-squares error function can then be written as:\n",
    "$E_D(\\mathbf{\\tilde W}) = \\frac{1}{2}Tr((\\mathbf{\\tilde{X} \\tilde{W} - T})^T(\\mathbf{\\tilde{X} \\tilde{W} - T}))$.\n",
    "\n",
    "➡️  Setting the derrivative w.r.t. $\\tilde W$ to zero, and rearranging, we obtain the solution:\n",
    "$\\mathbf {\\tilde{W} = (\\tilde{X}^T\\tilde{X})^{-1}\\tilde{X}^TT}$, where $(\\tilde{X}^T\\tilde{X})^{-1}\\tilde{X}^T$ is the pseudo-inverse of $\\mathbf{\\tilde X}.$\n",
    "\n",
    "➡️  We then obtain the discriminant function in the form $\\mathbf{ y(x) = {\\tilde W}^T \\tilde x }$ \n",
    "\n",
    "<i>Bishop, C. M. (2006). Pattern Recognition and Machine Learning (Chapter 4.1.3: Least Squares for Classification).</i>\n"
   ]
  },
  {
   "cell_type": "markdown",
   "metadata": {},
   "source": [
    "- To implement the algorithm described above, during fit we first covert `y_train` to one-hot-vectors (matrix $\\mathbf T$) and then learn the weights (matrix $\\mathbf W$) using the above formula. Predict is implemented exactly as derscibed."
   ]
  },
  {
   "cell_type": "markdown",
   "metadata": {},
   "source": [
    "### Custom Least Squares Classifier"
   ]
  },
  {
   "cell_type": "code",
   "execution_count": 152,
   "metadata": {},
   "outputs": [],
   "source": [
    "class LeastSquares:\n",
    "\n",
    "    def __init__(self):\n",
    "        self.W = None\n",
    "        self.num_classes = None    \n",
    "        \n",
    "    def _one_hot_vector(self, x):\n",
    "        vector = np.zeros(self.num_classes).astype(int)\n",
    "        vector[x] = 1\n",
    "        return vector\n",
    "        \n",
    "    def fit(self, X_train, y_train):\n",
    "        self.num_classes = np.unique(y_train).shape[0]\n",
    "        \n",
    "        # Insert 1 as the first column in X to augment the input vectors with a dummy input x_0 = 1\n",
    "        X = np.insert(X_train, 0, 1, axis=1)\n",
    "        \n",
    "        # T: T[i] = one-hot vector for the class of example i\n",
    "        T = list(map(self._one_hot_vector, y_train))\n",
    "        \n",
    "        # W: W = pseudo_inverse(X) * T\n",
    "        self.W = np.linalg.pinv(X).dot(T)\n",
    "\n",
    "    def predict(self, X_test):\n",
    "        # Insert 1 as the first column in X to augment the input vectors with a dummy input x_0 = 1\n",
    "        X = np.insert(X_test, 0, 1, axis=1)\n",
    "        \n",
    "        # Y: Y = transpose(W) * transpose(X)\n",
    "        Y = self.W.T.dot(X.T)\n",
    "\n",
    "        classes = np.argmax(Y, axis=0)\n",
    "        \n",
    "        return classes"
   ]
  },
  {
   "cell_type": "markdown",
   "metadata": {},
   "source": [
    "### Training & Testing"
   ]
  },
  {
   "cell_type": "markdown",
   "metadata": {},
   "source": [
    "#### Custom Least Squares Classifier"
   ]
  },
  {
   "cell_type": "markdown",
   "metadata": {},
   "source": [
    "First, the values of the accuracy, precision, recall and f1-score metrics are presented for the train set:"
   ]
  },
  {
   "cell_type": "code",
   "execution_count": 153,
   "metadata": {},
   "outputs": [
    {
     "name": "stdout",
     "output_type": "stream",
     "text": [
      "              precision    recall  f1-score   support\n",
      "\n",
      "           0       0.00      0.00      0.00        17\n",
      "           1       0.68      0.99      0.80        69\n",
      "           2       0.91      0.72      0.81        72\n",
      "           3       0.90      0.92      0.91        50\n",
      "\n",
      "    accuracy                           0.80       208\n",
      "   macro avg       0.62      0.66      0.63       208\n",
      "weighted avg       0.76      0.80      0.76       208\n",
      "\n"
     ]
    },
    {
     "name": "stderr",
     "output_type": "stream",
     "text": [
      "c:\\Users\\trian\\AppData\\Local\\Programs\\Python\\Python311\\Lib\\site-packages\\sklearn\\metrics\\_classification.py:1471: UndefinedMetricWarning: Precision and F-score are ill-defined and being set to 0.0 in labels with no predicted samples. Use `zero_division` parameter to control this behavior.\n",
      "  _warn_prf(average, modifier, msg_start, len(result))\n",
      "c:\\Users\\trian\\AppData\\Local\\Programs\\Python\\Python311\\Lib\\site-packages\\sklearn\\metrics\\_classification.py:1471: UndefinedMetricWarning: Precision and F-score are ill-defined and being set to 0.0 in labels with no predicted samples. Use `zero_division` parameter to control this behavior.\n",
      "  _warn_prf(average, modifier, msg_start, len(result))\n",
      "c:\\Users\\trian\\AppData\\Local\\Programs\\Python\\Python311\\Lib\\site-packages\\sklearn\\metrics\\_classification.py:1471: UndefinedMetricWarning: Precision and F-score are ill-defined and being set to 0.0 in labels with no predicted samples. Use `zero_division` parameter to control this behavior.\n",
      "  _warn_prf(average, modifier, msg_start, len(result))\n"
     ]
    }
   ],
   "source": [
    "# Training Least Squares Classifier\n",
    "least_squares = LeastSquares()\n",
    "least_squares.fit(X_train, y_train)\n",
    "\n",
    "# Using Least Squares Classifier (train set)\n",
    "y_custom = least_squares.predict(X_train)\n",
    "print(classification_report(y_train, y_custom))"
   ]
  },
  {
   "cell_type": "markdown",
   "metadata": {},
   "source": [
    "Now, the values of the same metrics are presented for the test set. We anticipate lower values for the respective metrics than those calculated for the train set:"
   ]
  },
  {
   "cell_type": "code",
   "execution_count": 154,
   "metadata": {},
   "outputs": [
    {
     "name": "stdout",
     "output_type": "stream",
     "text": [
      "              precision    recall  f1-score   support\n",
      "\n",
      "           0       0.00      0.00      0.00        26\n",
      "           1       0.53      0.89      0.67        46\n",
      "           2       0.75      0.44      0.56        34\n",
      "           3       0.81      1.00      0.90        39\n",
      "\n",
      "    accuracy                           0.66       145\n",
      "   macro avg       0.52      0.58      0.53       145\n",
      "weighted avg       0.56      0.66      0.58       145\n",
      "\n"
     ]
    },
    {
     "name": "stderr",
     "output_type": "stream",
     "text": [
      "c:\\Users\\trian\\AppData\\Local\\Programs\\Python\\Python311\\Lib\\site-packages\\sklearn\\metrics\\_classification.py:1471: UndefinedMetricWarning: Precision and F-score are ill-defined and being set to 0.0 in labels with no predicted samples. Use `zero_division` parameter to control this behavior.\n",
      "  _warn_prf(average, modifier, msg_start, len(result))\n",
      "c:\\Users\\trian\\AppData\\Local\\Programs\\Python\\Python311\\Lib\\site-packages\\sklearn\\metrics\\_classification.py:1471: UndefinedMetricWarning: Precision and F-score are ill-defined and being set to 0.0 in labels with no predicted samples. Use `zero_division` parameter to control this behavior.\n",
      "  _warn_prf(average, modifier, msg_start, len(result))\n",
      "c:\\Users\\trian\\AppData\\Local\\Programs\\Python\\Python311\\Lib\\site-packages\\sklearn\\metrics\\_classification.py:1471: UndefinedMetricWarning: Precision and F-score are ill-defined and being set to 0.0 in labels with no predicted samples. Use `zero_division` parameter to control this behavior.\n",
      "  _warn_prf(average, modifier, msg_start, len(result))\n"
     ]
    }
   ],
   "source": [
    "# Using Least Squares Classifier (test set)\n",
    "y_custom = least_squares.predict(X_test)\n",
    "print(classification_report(y_test, y_custom))"
   ]
  },
  {
   "cell_type": "markdown",
   "metadata": {},
   "source": [
    "The weights learned during training (matrix $\\mathbf W$) are displayed below:"
   ]
  },
  {
   "cell_type": "code",
   "execution_count": 113,
   "metadata": {},
   "outputs": [
    {
     "name": "stdout",
     "output_type": "stream",
     "text": [
      "Weights learned: \n",
      " [[ 0.49321531  0.84794951  0.25882411 -0.59998893]\n",
      " [ 0.04357535 -0.05225721  0.12781303 -0.11913117]\n",
      " [-0.13158232  0.0972374   0.03249247  0.00185246]\n",
      " [-0.05418855 -0.07239249  0.18732855 -0.06074751]\n",
      " [-0.25333285  0.04559216 -0.44257955  0.65032024]\n",
      " [-0.53044315 -1.12454184  0.28421772  1.37076727]]\n"
     ]
    }
   ],
   "source": [
    "# Print the weights that were learned during the training\n",
    "print(\"Weights learned: \\n\",least_squares.W)"
   ]
  },
  {
   "cell_type": "markdown",
   "metadata": {},
   "source": [
    "#### Scikit-Learn Ridge Classifier"
   ]
  },
  {
   "cell_type": "markdown",
   "metadata": {},
   "source": [
    "First, the values of the accuracy, precision, recall and f1-score metrics are presented for the train set:"
   ]
  },
  {
   "cell_type": "code",
   "execution_count": 155,
   "metadata": {},
   "outputs": [
    {
     "name": "stdout",
     "output_type": "stream",
     "text": [
      "              precision    recall  f1-score   support\n",
      "\n",
      "           0       0.00      0.00      0.00        17\n",
      "           1       0.68      0.99      0.80        69\n",
      "           2       0.91      0.72      0.81        72\n",
      "           3       0.90      0.92      0.91        50\n",
      "\n",
      "    accuracy                           0.80       208\n",
      "   macro avg       0.62      0.66      0.63       208\n",
      "weighted avg       0.76      0.80      0.76       208\n",
      "\n"
     ]
    },
    {
     "name": "stderr",
     "output_type": "stream",
     "text": [
      "c:\\Users\\trian\\AppData\\Local\\Programs\\Python\\Python311\\Lib\\site-packages\\sklearn\\metrics\\_classification.py:1471: UndefinedMetricWarning: Precision and F-score are ill-defined and being set to 0.0 in labels with no predicted samples. Use `zero_division` parameter to control this behavior.\n",
      "  _warn_prf(average, modifier, msg_start, len(result))\n",
      "c:\\Users\\trian\\AppData\\Local\\Programs\\Python\\Python311\\Lib\\site-packages\\sklearn\\metrics\\_classification.py:1471: UndefinedMetricWarning: Precision and F-score are ill-defined and being set to 0.0 in labels with no predicted samples. Use `zero_division` parameter to control this behavior.\n",
      "  _warn_prf(average, modifier, msg_start, len(result))\n",
      "c:\\Users\\trian\\AppData\\Local\\Programs\\Python\\Python311\\Lib\\site-packages\\sklearn\\metrics\\_classification.py:1471: UndefinedMetricWarning: Precision and F-score are ill-defined and being set to 0.0 in labels with no predicted samples. Use `zero_division` parameter to control this behavior.\n",
      "  _warn_prf(average, modifier, msg_start, len(result))\n"
     ]
    }
   ],
   "source": [
    "# Training Ridge Classifier\n",
    "scikit_ridge = RidgeClassifier(alpha=0) # alpha=0 means no regularization\n",
    "scikit_ridge.fit(X_train, y_train)\n",
    "\n",
    "# Using Ridge Classifier (train set)\n",
    "y_scikit = scikit_ridge.predict(X_train)\n",
    "print(classification_report(y_train, y_scikit))"
   ]
  },
  {
   "cell_type": "markdown",
   "metadata": {},
   "source": [
    "Now, the values of the same metrics are presented for the test set. We anticipate lower values for the respective metrics than those calculated for the train set:"
   ]
  },
  {
   "cell_type": "code",
   "execution_count": 156,
   "metadata": {},
   "outputs": [
    {
     "name": "stdout",
     "output_type": "stream",
     "text": [
      "              precision    recall  f1-score   support\n",
      "\n",
      "           0       0.00      0.00      0.00        26\n",
      "           1       0.53      0.89      0.67        46\n",
      "           2       0.75      0.44      0.56        34\n",
      "           3       0.81      1.00      0.90        39\n",
      "\n",
      "    accuracy                           0.66       145\n",
      "   macro avg       0.52      0.58      0.53       145\n",
      "weighted avg       0.56      0.66      0.58       145\n",
      "\n"
     ]
    },
    {
     "name": "stderr",
     "output_type": "stream",
     "text": [
      "c:\\Users\\trian\\AppData\\Local\\Programs\\Python\\Python311\\Lib\\site-packages\\sklearn\\metrics\\_classification.py:1471: UndefinedMetricWarning: Precision and F-score are ill-defined and being set to 0.0 in labels with no predicted samples. Use `zero_division` parameter to control this behavior.\n",
      "  _warn_prf(average, modifier, msg_start, len(result))\n",
      "c:\\Users\\trian\\AppData\\Local\\Programs\\Python\\Python311\\Lib\\site-packages\\sklearn\\metrics\\_classification.py:1471: UndefinedMetricWarning: Precision and F-score are ill-defined and being set to 0.0 in labels with no predicted samples. Use `zero_division` parameter to control this behavior.\n",
      "  _warn_prf(average, modifier, msg_start, len(result))\n",
      "c:\\Users\\trian\\AppData\\Local\\Programs\\Python\\Python311\\Lib\\site-packages\\sklearn\\metrics\\_classification.py:1471: UndefinedMetricWarning: Precision and F-score are ill-defined and being set to 0.0 in labels with no predicted samples. Use `zero_division` parameter to control this behavior.\n",
      "  _warn_prf(average, modifier, msg_start, len(result))\n"
     ]
    }
   ],
   "source": [
    "# Using Ridge Classifier (test set)\n",
    "y_scikit = scikit_ridge.predict(X_test)\n",
    "print(classification_report(y_test, y_scikit))"
   ]
  },
  {
   "cell_type": "markdown",
   "metadata": {},
   "source": [
    "The weights learned during training are displayed below:"
   ]
  },
  {
   "cell_type": "code",
   "execution_count": 157,
   "metadata": {},
   "outputs": [
    {
     "name": "stdout",
     "output_type": "stream",
     "text": [
      "Weights learned: \n",
      " [[ 0.08715069 -0.26316465 -0.10837711 -0.5066657  -1.06088629]\n",
      " [-0.10451441  0.19447479 -0.14478497  0.09118433 -2.24908367]\n",
      " [ 0.25562606  0.06498494  0.37465711 -0.8851591   0.56843544]\n",
      " [-0.23826234  0.00370492 -0.12149503  1.30064048  2.74153453]]\n"
     ]
    }
   ],
   "source": [
    "# Print the weights that were learned during the training\n",
    "print(\"Weights learned: \\n\",scikit_ridge.coef_)"
   ]
  },
  {
   "cell_type": "markdown",
   "metadata": {},
   "source": [
    "### Observations"
   ]
  },
  {
   "cell_type": "markdown",
   "metadata": {},
   "source": [
    "TEXT"
   ]
  },
  {
   "cell_type": "markdown",
   "metadata": {},
   "source": [
    "## Logistic Regression using Stochastic Gradient Descent"
   ]
  },
  {
   "cell_type": "markdown",
   "metadata": {},
   "source": [
    "\n",
    "In this section, the Logistic Regression classification algorithm is implemented. Our model is trained using Stochastic Gradient Descent and the loss function used is the Cross-Entropy Loss."
   ]
  },
  {
   "cell_type": "markdown",
   "metadata": {},
   "source": [
    "The weight update rule given that the loss function is Cross Entropy Loss, is the following:\n",
    "\n",
    "$$weights = weights - \\eta * gradient$$\n",
    "where:\n",
    "- $\\eta$: learning rate\n",
    "- $gradient=outer(example,\\; probabilities−one\\; hot\\; label)$\n",
    "\n",
    "---\n",
    "\n",
    "Let's break down the maths behind the weight update rule:\n",
    "\n",
    "1. <b>The cross-entropy loss for a single training example is given by:</b>\n",
    "    $$L(\\hat y, y) = - \\sum_{k=1}^K{y_k}log(\\hat y_k)$$\n",
    "    where:\n",
    "    - $\\hat y_k$: the predicted probability for class $i$ (through $softmax$)\n",
    "    - $y_k$: the corresponding element of the one-hot encoded true label vector\n",
    "    - $K$: the classes\n",
    "\n",
    "2. <b>The softmax activation function is used to convert raw scores (logits) into probabilities:</b>\n",
    "    $$softmax(\\mathbf t)_j = \\frac{exp(\\mathbf t_j)}{\\sum_{k=1}^K{exp(\\mathbf t_k)}}$$\n",
    "    where:\n",
    "    - $\\mathbf t$: the vector of logits\n",
    "    - $K$: the classes\n",
    "\n",
    "3. <b> The gradient of Cross-Entropy Loss w.r.t. the weights is:</b>\n",
    "    $$ \\frac{\\partial L}{\\partial \\mathbf W_{ij}} = x_i(\\hat y_j - y_j)$$\n",
    "    Explanation: \n",
    "    $$\\frac{\\partial L}{\\partial \\mathbf W_{ij}} = - \\frac{\\partial \\sum_{k=1}^K{y_i}log(\\hat y_i)}{\\partial \\mathbf W_{ij}} = - \\sum_{k=1}^K{\\frac{\\partial L}{\\partial \\hat y_k} \\frac{\\partial \\hat y_k}{\\partial t_j} \\frac{\\partial t_j}{\\partial \\mathbf W_{ij}}}$$\n",
    "    - $\\frac{\\partial L}{\\partial \\hat y_k} = - \\frac{y_k}{\\hat y_k}$\n",
    "    \n",
    "    - $\\frac{\\partial \\hat y_k}{\\partial t_j} = \\hat y_k (\\delta_{kj} - \\hat y_j) ^ {[1]}$, where $\\delta_{kj}$ is the Kronecker delta\n",
    "\n",
    "    - $\\frac{\\partial t_j}{\\partial \\mathbf W_{ij}} = x_i$\n",
    "\n",
    "    Combining these three terms yields $ \\frac{\\partial L}{\\partial \\mathbf W_{ij}} = x_i(\\hat y_j - y_j)$\n",
    "\n",
    "    [1]: $\\frac{\\partial \\hat y_k}{\\partial t_j}$ is in essence the derivative of the softmax function w.r.t. the logits (as $\\hat y_k$ is the estimated probability which is computed using softmax)\n",
    "    \n",
    "    - Case 1: $k=j$\n",
    "    \n",
    "        $\\frac{\\partial softmax(t)_k}{\\partial t_k} = \\frac{exp(t_k)\\sum_{i=1}^K{exp(t_i) - exp(t_k)exp(t_k)}}{(\\sum_{i=1}^K {exp(t_i)})^2} = \\frac{exp(t_k)}{\\sum_{i=1}^K{exp(t_i)}} * (1 - \\frac{exp(t_k)}{\\sum_{i=1}^K{exp(t_i)}}) = softmax(t)_k * (1-softmax(t)_k)$\n",
    "\n",
    "    - Case 2: $k \\neq j$\n",
    "    \n",
    "        $\\frac{\\partial softmax(t)_k}{\\partial t_j} = \\frac{- exp(t_k)exp(t_j)}{(\\sum_{i=1}^K {exp(t_i)})^2} = - \\frac{exp(t_k)}{\\sum_{i=1}^K{exp(t_i)}} * \\frac{exp(t_j)}{\\sum_{i=1}^K{exp(t_i)}} = -softmax(t)_k * (1-softmax(t)_j)$\n",
    "\n",
    "    Overall,\n",
    "\n",
    "    $$\n",
    "    \\frac{\\partial softmax(t)_k}{\\partial t_j} =\n",
    "    \\begin{cases}\n",
    "    softmax(t)_k * (1 - softmax(t)_k), \\; if\\;  k=j\\\\\n",
    "    -softmax(t)_k * softmax(t)_j, \\; if\\; k \\neq j\\\\\n",
    "    \\end{cases}\n",
    "    = softmax(t)_k(\\delta_{kj} - softmax(t)_j)\n",
    "    $$\n",
    "\n",
    "---\n"
   ]
  },
  {
   "cell_type": "markdown",
   "metadata": {},
   "source": [
    "Lastly, early stopping is implemented based on the validation accuracy. If the validation accuracy does not improve for a certain number of epochs (20 in this case) (`n_epochs_unchanged`), the training is terminated early, and the weights (`best_weights`) from the epoch (`best_epoch`) with the best accuracy (`best_accuracy` )are retained."
   ]
  },
  {
   "cell_type": "markdown",
   "metadata": {},
   "source": [
    "### Custom Logistic Regression Classifier"
   ]
  },
  {
   "cell_type": "code",
   "execution_count": 362,
   "metadata": {},
   "outputs": [],
   "source": [
    "class LogisticRegressionClassifier():\n",
    "    def __init__(self, n_iters, learning_rate):\n",
    "        self.n_iters = n_iters\n",
    "        self.learning_rate = learning_rate\n",
    "        self.W = None\n",
    "    \n",
    "    @staticmethod\n",
    "    def _softmax(t):\n",
    "        return np.exp(t) / np.sum(np.exp(t))  \n",
    "    \n",
    "    @staticmethod\n",
    "    def _one_hot_vector(class_, num_classes):\n",
    "        one_hot_vec = np.zeros(num_classes)\n",
    "        one_hot_vec[int(class_)] = 1\n",
    "        return one_hot_vec\n",
    "    \n",
    "    @staticmethod\n",
    "    def _cross_entropy_loss(y, y_hat):\n",
    "        return -sum(y * np.log(y_hat))\n",
    "\n",
    "    def fit(self, X_train, y_train, X_test, y_test, X_val, y_val):\n",
    "        num_examples, num_features = X_train.shape\n",
    "        num_test_examples = X_test.shape[0]\n",
    "        num_classes = len(np.unique(y_train))\n",
    "\n",
    "        # insert 1 as the first column in X to augment the input vectors with a dummy input x_0 = 1\n",
    "        X = np.insert(X_train, 0, 1, axis=1) \n",
    "        X_test = np.insert(X_test, 0, 1, axis=1)\n",
    "\n",
    "        # insert y_train array to shuffle examples in for loop\n",
    "        F = np.insert(X, 0, y_train, axis=1)     \n",
    "\n",
    "        # initialize the weights W\n",
    "        self.W = np.zeros((num_features + 1, num_classes))\n",
    "\n",
    "        best_accuracy = 0\n",
    "        best_epoch = 0\n",
    "        n_epochs_unchanged = 0\n",
    "        \n",
    "        train_cross_entropy_losses = list()\n",
    "        test_cross_entropy_losses = list()\n",
    "\n",
    "        for epoch in range(1, self.n_iters+1):\n",
    "            \n",
    "            train_loss = 0\n",
    "            \n",
    "            np.random.shuffle(F)  #random permutation of examples\n",
    "            X = F[:,1:]\n",
    "            y_train = F[:,0]\n",
    "            for i in range(num_examples):\n",
    "                example = X[i]  \n",
    "                logits = self.W.T.dot(example)\n",
    "                probabilities = self._softmax(logits)\n",
    "                one_hot_vec = self._one_hot_vector(y_train[i], num_classes)\n",
    "\n",
    "                self.W = self.W - self.learning_rate * np.outer(example, probabilities - one_hot_vec)\n",
    "                # (D,K)                                  (D,K)     #(D,)       (K,)         (K,)\n",
    "                \n",
    "                # Update train loss for the current example\n",
    "                train_loss += self._cross_entropy_loss(one_hot_vec, probabilities)\n",
    "            \n",
    "            # Compute test loss for all test examples at once\n",
    "            test_loss = sum(self._cross_entropy_loss(self._one_hot_vector(y_test[i], num_classes), self._softmax(self.W.T.dot(X_test[i]))) for i in range(len(X_test)))\n",
    "            \n",
    "            # Keep track of both losses per epoch\n",
    "            train_cross_entropy_losses.append(train_loss/num_examples)\n",
    "            test_cross_entropy_losses.append(test_loss/num_test_examples)\n",
    "            \n",
    "            # Early Stopping using accuracy on validation data\n",
    "            accuracy = accuracy_score(y_val, self.predict(X_val))\n",
    "            if accuracy > best_accuracy:\n",
    "                best_accuracy = accuracy\n",
    "                best_epoch = epoch\n",
    "                best_weights = self.W\n",
    "                n_epochs_unchanged = 0\n",
    "            else:\n",
    "                n_epochs_unchanged += 1\n",
    "\n",
    "            if n_epochs_unchanged == 20:\n",
    "                self.W = best_weights\n",
    "                break  \n",
    "\n",
    "        print(\"Best epoch: \"+str(best_epoch))\n",
    "        return train_cross_entropy_losses, test_cross_entropy_losses\n",
    "\n",
    "\n",
    "    def predict(self, X_test):\n",
    "        X = np.insert(X_test, 0, 1, axis=1)   #insert 1 in x_vector for w0\n",
    "\n",
    "        y_pred = list()\n",
    "        for example in X:\n",
    "            y_pred.append(np.argmax(self._softmax(self.W.T.dot(example))))\n",
    "\n",
    "        return np.array(y_pred)\n"
   ]
  },
  {
   "cell_type": "markdown",
   "metadata": {},
   "source": [
    "### Training & Testing"
   ]
  },
  {
   "cell_type": "markdown",
   "metadata": {},
   "source": [
    "We set the learning rate to be 0.01 ($\\eta=0.01$) which seems to perform well. Regarding the max iterations, the value is set to $100$, as it was experimentally observed that with the use of early stopping, the iterations/epochs were generally fewer than $100$."
   ]
  },
  {
   "cell_type": "markdown",
   "metadata": {},
   "source": [
    "#### Custom Logistic Regression Classifier"
   ]
  },
  {
   "cell_type": "markdown",
   "metadata": {},
   "source": [
    "First, the values of the accuracy, precision, recall and f1-score metrics are presented for the train set:"
   ]
  },
  {
   "cell_type": "code",
   "execution_count": 278,
   "metadata": {},
   "outputs": [
    {
     "name": "stdout",
     "output_type": "stream",
     "text": [
      "Best epoch: 26\n",
      "              precision    recall  f1-score   support\n",
      "\n",
      "           0       1.00      1.00      1.00        20\n",
      "           1       0.92      1.00      0.96        11\n",
      "           2       1.00      0.95      0.97        19\n",
      "\n",
      "    accuracy                           0.98        50\n",
      "   macro avg       0.97      0.98      0.98        50\n",
      "weighted avg       0.98      0.98      0.98        50\n",
      "\n"
     ]
    }
   ],
   "source": [
    "# Training Logistic Regression Classifier\n",
    "logistic_regression = LogisticRegressionClassifier(100, 0.01)\n",
    "train_losses, test_losses = logistic_regression.fit(X_train, y_train, X_test, y_test, X_dev, y_dev)\n",
    "\n",
    "# Using Logistic Regression Classifier (train set)\n",
    "y_custom = logistic_regression.predict(X_train)\n",
    "print(classification_report(y_train, y_custom))"
   ]
  },
  {
   "cell_type": "markdown",
   "metadata": {},
   "source": [
    "Now, the values of the same metrics are presented for the test set. We anticipate lower values for the respective metrics than those calculated for the train set:"
   ]
  },
  {
   "cell_type": "code",
   "execution_count": 279,
   "metadata": {},
   "outputs": [
    {
     "name": "stdout",
     "output_type": "stream",
     "text": [
      "              precision    recall  f1-score   support\n",
      "\n",
      "           0       1.00      1.00      1.00        19\n",
      "           1       0.88      1.00      0.94        15\n",
      "           2       1.00      0.88      0.93        16\n",
      "\n",
      "    accuracy                           0.96        50\n",
      "   macro avg       0.96      0.96      0.96        50\n",
      "weighted avg       0.96      0.96      0.96        50\n",
      "\n"
     ]
    }
   ],
   "source": [
    "# Using Logistic Regression Classifier (test set)\n",
    "y_custom = logistic_regression.predict(X_test)\n",
    "print(classification_report(y_test, y_custom))"
   ]
  },
  {
   "cell_type": "markdown",
   "metadata": {},
   "source": [
    "Finally, the curve of cross-entropy loss evolution is displayed as epochs progress. We expect a decreasing trend in the loss but not necessarily consistently decreasing. This occurs because we are executing stochastic gradient descent, meaning we update the weights according to a single example each time. Thus, the steps do not always move towards the minimum of the total cross entropy loss but rather towards the minimum of $L(\\hat y_i, y_i)$ (sometimes it may seem like the algorithm takes random steps as well!)."
   ]
  },
  {
   "cell_type": "code",
   "execution_count": 356,
   "metadata": {},
   "outputs": [
    {
     "data": {
      "image/png": "[encoded data removed]",
      "text/plain": [
       "<Figure size 640x480 with 1 Axes>"
      ]
     },
     "metadata": {},
     "output_type": "display_data"
    }
   ],
   "source": [
    "# Display the (total) cross entropy loss evolution curve\n",
    "Curve.cross_entropy_loss_curve(train_losses, test_losses)"
   ]
  },
  {
   "cell_type": "markdown",
   "metadata": {},
   "source": [
    "#### Scikit-Learn Logistic Regression Classifier"
   ]
  },
  {
   "cell_type": "markdown",
   "metadata": {},
   "source": [
    "First, the values of the accuracy, precision, recall and f1-score metrics are presented for the train set:"
   ]
  },
  {
   "cell_type": "code",
   "execution_count": 354,
   "metadata": {},
   "outputs": [
    {
     "name": "stdout",
     "output_type": "stream",
     "text": [
      "              precision    recall  f1-score   support\n",
      "\n",
      "           0       1.00      1.00      1.00        20\n",
      "           1       1.00      1.00      1.00        11\n",
      "           2       1.00      1.00      1.00        19\n",
      "\n",
      "    accuracy                           1.00        50\n",
      "   macro avg       1.00      1.00      1.00        50\n",
      "weighted avg       1.00      1.00      1.00        50\n",
      "\n"
     ]
    }
   ],
   "source": [
    "# Training LogisticRegression Classifier\n",
    "scikit_logistic_regression = LogisticRegression(max_iter=100, penalty=None)\n",
    "scikit_logistic_regression.fit(X_train, y_train)\n",
    "\n",
    "# Using LogisticRegression Classifier\n",
    "y_scikit = scikit_logistic_regression.predict(X_train)\n",
    "print(classification_report(y_train, y_scikit))"
   ]
  },
  {
   "cell_type": "markdown",
   "metadata": {},
   "source": [
    "Now, the values of the same metrics are presented for the test set. We anticipate lower values for the respective metrics than those calculated for the train set:"
   ]
  },
  {
   "cell_type": "code",
   "execution_count": 355,
   "metadata": {},
   "outputs": [
    {
     "name": "stdout",
     "output_type": "stream",
     "text": [
      "              precision    recall  f1-score   support\n",
      "\n",
      "           0       1.00      1.00      1.00        19\n",
      "           1       1.00      0.93      0.97        15\n",
      "           2       0.94      1.00      0.97        16\n",
      "\n",
      "    accuracy                           0.98        50\n",
      "   macro avg       0.98      0.98      0.98        50\n",
      "weighted avg       0.98      0.98      0.98        50\n",
      "\n"
     ]
    }
   ],
   "source": [
    "# Using LogisticRegression Classifier\n",
    "y_scikit = scikit_logistic_regression.predict(X_test)\n",
    "print(classification_report(y_test, y_scikit))"
   ]
  },
  {
   "cell_type": "markdown",
   "metadata": {},
   "source": [
    "### Observations"
   ]
  },
  {
   "cell_type": "markdown",
   "metadata": {},
   "source": [
    "TEXT"
   ]
  },
  {
   "cell_type": "markdown",
   "metadata": {},
   "source": [
    "## Gaussian Naive Bayes Classifier"
   ]
  },
  {
   "cell_type": "markdown",
   "metadata": {},
   "source": [
    "### Custom Gaussian Naive Bayes Classifier"
   ]
  },
  {
   "cell_type": "markdown",
   "metadata": {},
   "source": [
    "Consider a general case where we are in $R^d$. We assume that the population from which our data is sampled follows a normal distribution $N(μ, Σ)$. To apply Naive Bayes in $R^d$, we choose to approximate this distribution with a second distribution $N(m, C)$, where $C$ is a diagonal covariance matrix. The latter implies that we consider independence among the variables, leading to zero covariances (and thus a diagonal covariance matrix $C$ where only $COV(X_i, X_i) = VAR(X_i) \\geq 0$, for $i=1,...,d)$.\n",
    "\n",
    "Let $θ = (μ, Σ)$ and $φ = (m, C)$.\n",
    "\n",
    "Now, we can approach the distribution $N(μ, Σ)$ in two ways:\n",
    "1. Choose $φ$ s.t. $KL(θ : φ)$ is minimized\n",
    "2. Choose $φ$ s.t. $KL(φ : θ)$ is minimized, where KL is the Kullback-Liebler divergence\n",
    "\n",
    "These approaches lead to the following formulas, respectively:\n",
    "1. $m = μ$, $C = diag(Σ)$\n",
    "2. $m = μ$, $C = diag(Λ)^{-1}$, where $Λ$ is the precision matrix (i.e. $Λ = Σ^{-1}$)\n",
    "\n",
    "In the following implementation we use the first formula."
   ]
  },
  {
   "cell_type": "code",
   "execution_count": 143,
   "metadata": {},
   "outputs": [],
   "source": [
    "class GaussianNaiveBayes:\n",
    "    def __init__(self):\n",
    "        self.classes = None\n",
    "        self.priors = None\n",
    "        self.means = None\n",
    "        self.covariances = None\n",
    "    \n",
    "    def fit(self, X_train, y_train):\n",
    "        self.classes = np.unique(y_train)\n",
    "        self.priors = {}\n",
    "        self.means = {}\n",
    "        self.covariances = {}\n",
    "        \n",
    "        for c in self.classes:\n",
    "            # Separate examples per class \n",
    "            class_data = X_train[y_train == c]\n",
    "            \n",
    "            # Calculate the prior probability for each class\n",
    "            self.priors[c] = class_data.shape[0] / X_train.shape[0]\n",
    "\n",
    "            # Calculate the mean vector for each class: m = [mean(f1), mean(f2),...]\n",
    "            self.means[c] = np.mean(class_data, axis=0)\n",
    "            \n",
    "            # Calculate the covariance vector for each class: C = diag(var(f1), var(f2),...). Note that only the diagonal needs to be stored\n",
    "            self.covariances[c] = np.var(class_data, axis=0)\n",
    "\n",
    "    def predict(self, X_test):\n",
    "        predictions = list()\n",
    "\n",
    "        for example in X_test:\n",
    "            class_prob = []\n",
    "            for c in self.classes:\n",
    "                # P(c|example) ~ P(c) * P(example|c) = P(c) * P(example|m_c, C_c)\n",
    "                class_prob.append(self.priors[c] * multivariate_normal.pdf(example, mean = self.means[c], cov=self.covariances[c]))\n",
    "            predictions.append(self.classes[np.argmax(class_prob)])\n",
    "        \n",
    "        return np.array(predictions)"
   ]
  },
  {
   "cell_type": "markdown",
   "metadata": {},
   "source": [
    "### Training & Testing"
   ]
  },
  {
   "cell_type": "markdown",
   "metadata": {},
   "source": [
    "#### Custom Gaussian Naive Bayes Classifier"
   ]
  },
  {
   "cell_type": "markdown",
   "metadata": {},
   "source": [
    "First, the values of the accuracy, precision, recall and f1-score metrics are presented for the train set:"
   ]
  },
  {
   "cell_type": "code",
   "execution_count": 144,
   "metadata": {},
   "outputs": [
    {
     "name": "stdout",
     "output_type": "stream",
     "text": [
      "              precision    recall  f1-score   support\n",
      "\n",
      "           0       0.88      0.82      0.85        17\n",
      "           1       0.82      0.96      0.89        69\n",
      "           2       0.91      0.83      0.87        72\n",
      "           3       0.98      0.90      0.94        50\n",
      "\n",
      "    accuracy                           0.89       208\n",
      "   macro avg       0.90      0.88      0.89       208\n",
      "weighted avg       0.90      0.89      0.89       208\n",
      "\n"
     ]
    }
   ],
   "source": [
    "# Training Gaussian Naive Bayes Classifier\n",
    "gaussian_nb = GaussianNaiveBayes()\n",
    "gaussian_nb.fit(X_train, y_train)\n",
    "\n",
    "# Using Gaussian Naive Bayes Classifier (train set)\n",
    "y_custom = gaussian_nb.predict(X_train)\n",
    "print(classification_report(y_train, y_custom))"
   ]
  },
  {
   "cell_type": "markdown",
   "metadata": {},
   "source": [
    "Now, the values of the same metrics are presented for the test set. We anticipate lower values for the respective metrics than those calculated for the train set:"
   ]
  },
  {
   "cell_type": "code",
   "execution_count": 145,
   "metadata": {},
   "outputs": [
    {
     "name": "stdout",
     "output_type": "stream",
     "text": [
      "              precision    recall  f1-score   support\n",
      "\n",
      "           0       1.00      0.73      0.84        26\n",
      "           1       0.72      0.91      0.81        46\n",
      "           2       0.86      0.74      0.79        34\n",
      "           3       1.00      1.00      1.00        39\n",
      "\n",
      "    accuracy                           0.86       145\n",
      "   macro avg       0.90      0.84      0.86       145\n",
      "weighted avg       0.88      0.86      0.86       145\n",
      "\n"
     ]
    }
   ],
   "source": [
    "# Using Gaussian Naive Bayes Classifier (test set)\n",
    "y_custom = gaussian_nb.predict(X_test)\n",
    "print(classification_report(y_test, y_custom))"
   ]
  },
  {
   "cell_type": "markdown",
   "metadata": {},
   "source": [
    "The parameters (priors, means and covariance matrix) are displayed below:"
   ]
  },
  {
   "cell_type": "code",
   "execution_count": 146,
   "metadata": {},
   "outputs": [
    {
     "name": "stdout",
     "output_type": "stream",
     "text": [
      "Custom Gaussian Naive Bayes Classifier - Priors\n"
     ]
    },
    {
     "data": {
      "text/html": [
       "<div>\n",
       "<style scoped>\n",
       "    .dataframe tbody tr th:only-of-type {\n",
       "        vertical-align: middle;\n",
       "    }\n",
       "\n",
       "    .dataframe tbody tr th {\n",
       "        vertical-align: top;\n",
       "    }\n",
       "\n",
       "    .dataframe thead th {\n",
       "        text-align: right;\n",
       "    }\n",
       "</style>\n",
       "<table border=\"1\" class=\"dataframe\">\n",
       "  <thead>\n",
       "    <tr style=\"text-align: center;\">\n",
       "      <th></th>\n",
       "      <th>Class_0</th>\n",
       "      <th>Class_1</th>\n",
       "      <th>Class_2</th>\n",
       "      <th>Class_3</th>\n",
       "    </tr>\n",
       "  </thead>\n",
       "  <tbody>\n",
       "    <tr>\n",
       "      <th>0</th>\n",
       "      <td>0.082</td>\n",
       "      <td>0.332</td>\n",
       "      <td>0.346</td>\n",
       "      <td>0.24</td>\n",
       "    </tr>\n",
       "  </tbody>\n",
       "</table>\n",
       "</div>"
      ],
      "text/plain": [
       "   Class_0  Class_1  Class_2  Class_3\n",
       "0   0.082    0.332    0.346    0.24  "
      ]
     },
     "metadata": {},
     "output_type": "display_data"
    },
    {
     "name": "stdout",
     "output_type": "stream",
     "text": [
      "Custom Gaussian Naive Bayes Classifier  - Means\n"
     ]
    },
    {
     "data": {
      "text/html": [
       "<div>\n",
       "<style scoped>\n",
       "    .dataframe tbody tr th:only-of-type {\n",
       "        vertical-align: middle;\n",
       "    }\n",
       "\n",
       "    .dataframe tbody tr th {\n",
       "        vertical-align: top;\n",
       "    }\n",
       "\n",
       "    .dataframe thead th {\n",
       "        text-align: right;\n",
       "    }\n",
       "</style>\n",
       "<table border=\"1\" class=\"dataframe\">\n",
       "  <thead>\n",
       "    <tr style=\"text-align: center;\">\n",
       "      <th></th>\n",
       "      <th>Feature_0</th>\n",
       "      <th>Feature_1</th>\n",
       "      <th>Feature_2</th>\n",
       "      <th>Feature_3</th>\n",
       "      <th>Feature_4</th>\n",
       "    </tr>\n",
       "  </thead>\n",
       "  <tbody>\n",
       "    <tr>\n",
       "      <th>Class_0</th>\n",
       "      <td>0.284</td>\n",
       "      <td>0.201</td>\n",
       "      <td>0.386</td>\n",
       "      <td>0.335</td>\n",
       "      <td>0.079</td>\n",
       "    </tr>\n",
       "    <tr>\n",
       "      <th>Class_1</th>\n",
       "      <td>0.323</td>\n",
       "      <td>0.340</td>\n",
       "      <td>0.443</td>\n",
       "      <td>0.497</td>\n",
       "      <td>0.240</td>\n",
       "    </tr>\n",
       "    <tr>\n",
       "      <th>Class_2</th>\n",
       "      <td>0.400</td>\n",
       "      <td>0.376</td>\n",
       "      <td>0.508</td>\n",
       "      <td>0.344</td>\n",
       "      <td>0.543</td>\n",
       "    </tr>\n",
       "    <tr>\n",
       "      <th>Class_3</th>\n",
       "      <td>0.453</td>\n",
       "      <td>0.443</td>\n",
       "      <td>0.493</td>\n",
       "      <td>0.511</td>\n",
       "      <td>0.775</td>\n",
       "    </tr>\n",
       "  </tbody>\n",
       "</table>\n",
       "</div>"
      ],
      "text/plain": [
       "         Feature_0  Feature_1  Feature_2  Feature_3  Feature_4\n",
       "Class_0    0.284      0.201      0.386      0.335      0.079  \n",
       "Class_1    0.323      0.340      0.443      0.497      0.240  \n",
       "Class_2    0.400      0.376      0.508      0.344      0.543  \n",
       "Class_3    0.453      0.443      0.493      0.511      0.775  "
      ]
     },
     "metadata": {},
     "output_type": "display_data"
    },
    {
     "name": "stdout",
     "output_type": "stream",
     "text": [
      "Custom Gaussian Naive Bayes Classifier  - Covariance Matrix per class\n"
     ]
    },
    {
     "data": {
      "text/html": [
       "<div>\n",
       "<style scoped>\n",
       "    .dataframe tbody tr th:only-of-type {\n",
       "        vertical-align: middle;\n",
       "    }\n",
       "\n",
       "    .dataframe tbody tr th {\n",
       "        vertical-align: top;\n",
       "    }\n",
       "\n",
       "    .dataframe thead th {\n",
       "        text-align: right;\n",
       "    }\n",
       "</style>\n",
       "<table border=\"1\" class=\"dataframe\">\n",
       "  <thead>\n",
       "    <tr style=\"text-align: center;\">\n",
       "      <th></th>\n",
       "      <th>Feature_0</th>\n",
       "      <th>Feature_1</th>\n",
       "      <th>Feature_2</th>\n",
       "      <th>Feature_3</th>\n",
       "      <th>Feature_4</th>\n",
       "    </tr>\n",
       "  </thead>\n",
       "  <tbody>\n",
       "    <tr>\n",
       "      <th>Feature_0</th>\n",
       "      <td>0.042</td>\n",
       "      <td>0.000</td>\n",
       "      <td>0.000</td>\n",
       "      <td>0.000</td>\n",
       "      <td>0.000</td>\n",
       "    </tr>\n",
       "    <tr>\n",
       "      <th>Feature_1</th>\n",
       "      <td>0.000</td>\n",
       "      <td>0.022</td>\n",
       "      <td>0.000</td>\n",
       "      <td>0.000</td>\n",
       "      <td>0.000</td>\n",
       "    </tr>\n",
       "    <tr>\n",
       "      <th>Feature_2</th>\n",
       "      <td>0.000</td>\n",
       "      <td>0.000</td>\n",
       "      <td>0.051</td>\n",
       "      <td>0.000</td>\n",
       "      <td>0.000</td>\n",
       "    </tr>\n",
       "    <tr>\n",
       "      <th>Feature_3</th>\n",
       "      <td>0.000</td>\n",
       "      <td>0.000</td>\n",
       "      <td>0.000</td>\n",
       "      <td>0.045</td>\n",
       "      <td>0.000</td>\n",
       "    </tr>\n",
       "    <tr>\n",
       "      <th>Feature_4</th>\n",
       "      <td>0.000</td>\n",
       "      <td>0.000</td>\n",
       "      <td>0.000</td>\n",
       "      <td>0.000</td>\n",
       "      <td>0.003</td>\n",
       "    </tr>\n",
       "  </tbody>\n",
       "</table>\n",
       "</div>"
      ],
      "text/plain": [
       "           Feature_0  Feature_1  Feature_2  Feature_3  Feature_4\n",
       "Feature_0    0.042      0.000      0.000      0.000      0.000  \n",
       "Feature_1    0.000      0.022      0.000      0.000      0.000  \n",
       "Feature_2    0.000      0.000      0.051      0.000      0.000  \n",
       "Feature_3    0.000      0.000      0.000      0.045      0.000  \n",
       "Feature_4    0.000      0.000      0.000      0.000      0.003  "
      ]
     },
     "metadata": {},
     "output_type": "display_data"
    },
    {
     "data": {
      "text/html": [
       "<div>\n",
       "<style scoped>\n",
       "    .dataframe tbody tr th:only-of-type {\n",
       "        vertical-align: middle;\n",
       "    }\n",
       "\n",
       "    .dataframe tbody tr th {\n",
       "        vertical-align: top;\n",
       "    }\n",
       "\n",
       "    .dataframe thead th {\n",
       "        text-align: right;\n",
       "    }\n",
       "</style>\n",
       "<table border=\"1\" class=\"dataframe\">\n",
       "  <thead>\n",
       "    <tr style=\"text-align: center;\">\n",
       "      <th></th>\n",
       "      <th>Feature_0</th>\n",
       "      <th>Feature_1</th>\n",
       "      <th>Feature_2</th>\n",
       "      <th>Feature_3</th>\n",
       "      <th>Feature_4</th>\n",
       "    </tr>\n",
       "  </thead>\n",
       "  <tbody>\n",
       "    <tr>\n",
       "      <th>Feature_0</th>\n",
       "      <td>0.03</td>\n",
       "      <td>0.000</td>\n",
       "      <td>0.000</td>\n",
       "      <td>0.000</td>\n",
       "      <td>0.000</td>\n",
       "    </tr>\n",
       "    <tr>\n",
       "      <th>Feature_1</th>\n",
       "      <td>0.00</td>\n",
       "      <td>0.036</td>\n",
       "      <td>0.000</td>\n",
       "      <td>0.000</td>\n",
       "      <td>0.000</td>\n",
       "    </tr>\n",
       "    <tr>\n",
       "      <th>Feature_2</th>\n",
       "      <td>0.00</td>\n",
       "      <td>0.000</td>\n",
       "      <td>0.066</td>\n",
       "      <td>0.000</td>\n",
       "      <td>0.000</td>\n",
       "    </tr>\n",
       "    <tr>\n",
       "      <th>Feature_3</th>\n",
       "      <td>0.00</td>\n",
       "      <td>0.000</td>\n",
       "      <td>0.000</td>\n",
       "      <td>0.048</td>\n",
       "      <td>0.000</td>\n",
       "    </tr>\n",
       "    <tr>\n",
       "      <th>Feature_4</th>\n",
       "      <td>0.00</td>\n",
       "      <td>0.000</td>\n",
       "      <td>0.000</td>\n",
       "      <td>0.000</td>\n",
       "      <td>0.005</td>\n",
       "    </tr>\n",
       "  </tbody>\n",
       "</table>\n",
       "</div>"
      ],
      "text/plain": [
       "           Feature_0  Feature_1  Feature_2  Feature_3  Feature_4\n",
       "Feature_0    0.03       0.000      0.000      0.000      0.000  \n",
       "Feature_1    0.00       0.036      0.000      0.000      0.000  \n",
       "Feature_2    0.00       0.000      0.066      0.000      0.000  \n",
       "Feature_3    0.00       0.000      0.000      0.048      0.000  \n",
       "Feature_4    0.00       0.000      0.000      0.000      0.005  "
      ]
     },
     "metadata": {},
     "output_type": "display_data"
    },
    {
     "data": {
      "text/html": [
       "<div>\n",
       "<style scoped>\n",
       "    .dataframe tbody tr th:only-of-type {\n",
       "        vertical-align: middle;\n",
       "    }\n",
       "\n",
       "    .dataframe tbody tr th {\n",
       "        vertical-align: top;\n",
       "    }\n",
       "\n",
       "    .dataframe thead th {\n",
       "        text-align: right;\n",
       "    }\n",
       "</style>\n",
       "<table border=\"1\" class=\"dataframe\">\n",
       "  <thead>\n",
       "    <tr style=\"text-align: center;\">\n",
       "      <th></th>\n",
       "      <th>Feature_0</th>\n",
       "      <th>Feature_1</th>\n",
       "      <th>Feature_2</th>\n",
       "      <th>Feature_3</th>\n",
       "      <th>Feature_4</th>\n",
       "    </tr>\n",
       "  </thead>\n",
       "  <tbody>\n",
       "    <tr>\n",
       "      <th>Feature_0</th>\n",
       "      <td>0.042</td>\n",
       "      <td>0.000</td>\n",
       "      <td>0.000</td>\n",
       "      <td>0.000</td>\n",
       "      <td>0.000</td>\n",
       "    </tr>\n",
       "    <tr>\n",
       "      <th>Feature_1</th>\n",
       "      <td>0.000</td>\n",
       "      <td>0.044</td>\n",
       "      <td>0.000</td>\n",
       "      <td>0.000</td>\n",
       "      <td>0.000</td>\n",
       "    </tr>\n",
       "    <tr>\n",
       "      <th>Feature_2</th>\n",
       "      <td>0.000</td>\n",
       "      <td>0.000</td>\n",
       "      <td>0.048</td>\n",
       "      <td>0.000</td>\n",
       "      <td>0.000</td>\n",
       "    </tr>\n",
       "    <tr>\n",
       "      <th>Feature_3</th>\n",
       "      <td>0.000</td>\n",
       "      <td>0.000</td>\n",
       "      <td>0.000</td>\n",
       "      <td>0.056</td>\n",
       "      <td>0.000</td>\n",
       "    </tr>\n",
       "    <tr>\n",
       "      <th>Feature_4</th>\n",
       "      <td>0.000</td>\n",
       "      <td>0.000</td>\n",
       "      <td>0.000</td>\n",
       "      <td>0.000</td>\n",
       "      <td>0.017</td>\n",
       "    </tr>\n",
       "  </tbody>\n",
       "</table>\n",
       "</div>"
      ],
      "text/plain": [
       "           Feature_0  Feature_1  Feature_2  Feature_3  Feature_4\n",
       "Feature_0    0.042      0.000      0.000      0.000      0.000  \n",
       "Feature_1    0.000      0.044      0.000      0.000      0.000  \n",
       "Feature_2    0.000      0.000      0.048      0.000      0.000  \n",
       "Feature_3    0.000      0.000      0.000      0.056      0.000  \n",
       "Feature_4    0.000      0.000      0.000      0.000      0.017  "
      ]
     },
     "metadata": {},
     "output_type": "display_data"
    },
    {
     "data": {
      "text/html": [
       "<div>\n",
       "<style scoped>\n",
       "    .dataframe tbody tr th:only-of-type {\n",
       "        vertical-align: middle;\n",
       "    }\n",
       "\n",
       "    .dataframe tbody tr th {\n",
       "        vertical-align: top;\n",
       "    }\n",
       "\n",
       "    .dataframe thead th {\n",
       "        text-align: right;\n",
       "    }\n",
       "</style>\n",
       "<table border=\"1\" class=\"dataframe\">\n",
       "  <thead>\n",
       "    <tr style=\"text-align: center;\">\n",
       "      <th></th>\n",
       "      <th>Feature_0</th>\n",
       "      <th>Feature_1</th>\n",
       "      <th>Feature_2</th>\n",
       "      <th>Feature_3</th>\n",
       "      <th>Feature_4</th>\n",
       "    </tr>\n",
       "  </thead>\n",
       "  <tbody>\n",
       "    <tr>\n",
       "      <th>Feature_0</th>\n",
       "      <td>0.057</td>\n",
       "      <td>0.000</td>\n",
       "      <td>0.000</td>\n",
       "      <td>0.000</td>\n",
       "      <td>0.000</td>\n",
       "    </tr>\n",
       "    <tr>\n",
       "      <th>Feature_1</th>\n",
       "      <td>0.000</td>\n",
       "      <td>0.054</td>\n",
       "      <td>0.000</td>\n",
       "      <td>0.000</td>\n",
       "      <td>0.000</td>\n",
       "    </tr>\n",
       "    <tr>\n",
       "      <th>Feature_2</th>\n",
       "      <td>0.000</td>\n",
       "      <td>0.000</td>\n",
       "      <td>0.068</td>\n",
       "      <td>0.000</td>\n",
       "      <td>0.000</td>\n",
       "    </tr>\n",
       "    <tr>\n",
       "      <th>Feature_3</th>\n",
       "      <td>0.000</td>\n",
       "      <td>0.000</td>\n",
       "      <td>0.000</td>\n",
       "      <td>0.077</td>\n",
       "      <td>0.000</td>\n",
       "    </tr>\n",
       "    <tr>\n",
       "      <th>Feature_4</th>\n",
       "      <td>0.000</td>\n",
       "      <td>0.000</td>\n",
       "      <td>0.000</td>\n",
       "      <td>0.000</td>\n",
       "      <td>0.011</td>\n",
       "    </tr>\n",
       "  </tbody>\n",
       "</table>\n",
       "</div>"
      ],
      "text/plain": [
       "           Feature_0  Feature_1  Feature_2  Feature_3  Feature_4\n",
       "Feature_0    0.057      0.000      0.000      0.000      0.000  \n",
       "Feature_1    0.000      0.054      0.000      0.000      0.000  \n",
       "Feature_2    0.000      0.000      0.068      0.000      0.000  \n",
       "Feature_3    0.000      0.000      0.000      0.077      0.000  \n",
       "Feature_4    0.000      0.000      0.000      0.000      0.011  "
      ]
     },
     "metadata": {},
     "output_type": "display_data"
    }
   ],
   "source": [
    "# Print the estimated priors (per class), means (per class and feature) and covariances(per class and feature)\n",
    "custom_priors = np.asarray(list(gaussian_nb.priors.values()))\n",
    "custom_means = np.asarray(list(gaussian_nb.means.values()))\n",
    "custom_num_classes = len(gaussian_nb.classes)\n",
    "custom_covariances = np.array([np.diag(list(gaussian_nb.covariances.values())[i]) for i in range(custom_num_classes)])\n",
    "\n",
    "Report.gaussian_naive_bayes_parameters(\"Custom Gaussian Naive Bayes Classifier\", custom_priors, custom_means, custom_covariances, custom_num_classes, X_train.shape[1])"
   ]
  },
  {
   "cell_type": "markdown",
   "metadata": {},
   "source": [
    "#### Scikit-Learn Gaussian Naive Bayes Classifier"
   ]
  },
  {
   "cell_type": "markdown",
   "metadata": {},
   "source": [
    "First, the values of the accuracy, precision, recall and f1-score metrics are presented for the train set:"
   ]
  },
  {
   "cell_type": "code",
   "execution_count": 147,
   "metadata": {},
   "outputs": [
    {
     "name": "stdout",
     "output_type": "stream",
     "text": [
      "              precision    recall  f1-score   support\n",
      "\n",
      "           0       0.88      0.82      0.85        17\n",
      "           1       0.82      0.96      0.89        69\n",
      "           2       0.91      0.83      0.87        72\n",
      "           3       0.98      0.90      0.94        50\n",
      "\n",
      "    accuracy                           0.89       208\n",
      "   macro avg       0.90      0.88      0.89       208\n",
      "weighted avg       0.90      0.89      0.89       208\n",
      "\n"
     ]
    }
   ],
   "source": [
    "# Training GaussianNB Classifier\n",
    "scikit_gaussian_nb = GaussianNB()\n",
    "scikit_gaussian_nb.fit(X_train, y_train)\n",
    "\n",
    "# Using GaussianNB Classifier (train set)\n",
    "y_scikit = scikit_gaussian_nb.predict(X_train)\n",
    "print(classification_report(y_train, y_scikit))"
   ]
  },
  {
   "cell_type": "markdown",
   "metadata": {},
   "source": [
    "Now, the values of the same metrics are presented for the test set. We anticipate lower values for the respective metrics than those calculated for the train set:"
   ]
  },
  {
   "cell_type": "code",
   "execution_count": 148,
   "metadata": {},
   "outputs": [
    {
     "name": "stdout",
     "output_type": "stream",
     "text": [
      "              precision    recall  f1-score   support\n",
      "\n",
      "           0       1.00      0.73      0.84        26\n",
      "           1       0.72      0.91      0.81        46\n",
      "           2       0.86      0.74      0.79        34\n",
      "           3       1.00      1.00      1.00        39\n",
      "\n",
      "    accuracy                           0.86       145\n",
      "   macro avg       0.90      0.84      0.86       145\n",
      "weighted avg       0.88      0.86      0.86       145\n",
      "\n"
     ]
    }
   ],
   "source": [
    "# Using GaussianNB Classifier (test set)\n",
    "y_scikit = scikit_gaussian_nb.predict(X_test)\n",
    "print(classification_report(y_test, y_scikit))"
   ]
  },
  {
   "cell_type": "markdown",
   "metadata": {},
   "source": [
    "The parameters (priors, means and covariance matrix) are displayed below:"
   ]
  },
  {
   "cell_type": "code",
   "execution_count": 76,
   "metadata": {},
   "outputs": [
    {
     "name": "stdout",
     "output_type": "stream",
     "text": [
      "Scikit-Learn Gaussian Naive Bayes Classifier - Priors\n"
     ]
    },
    {
     "data": {
      "text/html": [
       "<div>\n",
       "<style scoped>\n",
       "    .dataframe tbody tr th:only-of-type {\n",
       "        vertical-align: middle;\n",
       "    }\n",
       "\n",
       "    .dataframe tbody tr th {\n",
       "        vertical-align: top;\n",
       "    }\n",
       "\n",
       "    .dataframe thead th {\n",
       "        text-align: right;\n",
       "    }\n",
       "</style>\n",
       "<table border=\"1\" class=\"dataframe\">\n",
       "  <thead>\n",
       "    <tr style=\"text-align: center;\">\n",
       "      <th></th>\n",
       "      <th>Class_0</th>\n",
       "      <th>Class_1</th>\n",
       "      <th>Class_2</th>\n",
       "    </tr>\n",
       "  </thead>\n",
       "  <tbody>\n",
       "    <tr>\n",
       "      <th>0</th>\n",
       "      <td>0.4</td>\n",
       "      <td>0.22</td>\n",
       "      <td>0.38</td>\n",
       "    </tr>\n",
       "  </tbody>\n",
       "</table>\n",
       "</div>"
      ],
      "text/plain": [
       "   Class_0  Class_1  Class_2\n",
       "0    0.4     0.22     0.38  "
      ]
     },
     "metadata": {},
     "output_type": "display_data"
    },
    {
     "name": "stdout",
     "output_type": "stream",
     "text": [
      "Scikit-Learn Gaussian Naive Bayes Classifier  - Means\n"
     ]
    },
    {
     "data": {
      "text/html": [
       "<div>\n",
       "<style scoped>\n",
       "    .dataframe tbody tr th:only-of-type {\n",
       "        vertical-align: middle;\n",
       "    }\n",
       "\n",
       "    .dataframe tbody tr th {\n",
       "        vertical-align: top;\n",
       "    }\n",
       "\n",
       "    .dataframe thead th {\n",
       "        text-align: right;\n",
       "    }\n",
       "</style>\n",
       "<table border=\"1\" class=\"dataframe\">\n",
       "  <thead>\n",
       "    <tr style=\"text-align: center;\">\n",
       "      <th></th>\n",
       "      <th>Feature_0</th>\n",
       "      <th>Feature_1</th>\n",
       "      <th>Feature_2</th>\n",
       "      <th>Feature_3</th>\n",
       "    </tr>\n",
       "  </thead>\n",
       "  <tbody>\n",
       "    <tr>\n",
       "      <th>Class_0</th>\n",
       "      <td>5.005</td>\n",
       "      <td>3.410</td>\n",
       "      <td>1.445</td>\n",
       "      <td>0.245</td>\n",
       "    </tr>\n",
       "    <tr>\n",
       "      <th>Class_1</th>\n",
       "      <td>5.745</td>\n",
       "      <td>2.673</td>\n",
       "      <td>4.045</td>\n",
       "      <td>1.227</td>\n",
       "    </tr>\n",
       "    <tr>\n",
       "      <th>Class_2</th>\n",
       "      <td>6.474</td>\n",
       "      <td>2.947</td>\n",
       "      <td>5.537</td>\n",
       "      <td>2.026</td>\n",
       "    </tr>\n",
       "  </tbody>\n",
       "</table>\n",
       "</div>"
      ],
      "text/plain": [
       "         Feature_0  Feature_1  Feature_2  Feature_3\n",
       "Class_0    5.005      3.410      1.445      0.245  \n",
       "Class_1    5.745      2.673      4.045      1.227  \n",
       "Class_2    6.474      2.947      5.537      2.026  "
      ]
     },
     "metadata": {},
     "output_type": "display_data"
    },
    {
     "name": "stdout",
     "output_type": "stream",
     "text": [
      "Scikit-Learn Gaussian Naive Bayes Classifier  - Covariance Matrix per class\n"
     ]
    },
    {
     "data": {
      "text/html": [
       "<div>\n",
       "<style scoped>\n",
       "    .dataframe tbody tr th:only-of-type {\n",
       "        vertical-align: middle;\n",
       "    }\n",
       "\n",
       "    .dataframe tbody tr th {\n",
       "        vertical-align: top;\n",
       "    }\n",
       "\n",
       "    .dataframe thead th {\n",
       "        text-align: right;\n",
       "    }\n",
       "</style>\n",
       "<table border=\"1\" class=\"dataframe\">\n",
       "  <thead>\n",
       "    <tr style=\"text-align: center;\">\n",
       "      <th></th>\n",
       "      <th>Feature_0</th>\n",
       "      <th>Feature_1</th>\n",
       "      <th>Feature_2</th>\n",
       "      <th>Feature_3</th>\n",
       "    </tr>\n",
       "  </thead>\n",
       "  <tbody>\n",
       "    <tr>\n",
       "      <th>Feature_0</th>\n",
       "      <td>0.123</td>\n",
       "      <td>0.000</td>\n",
       "      <td>0.000</td>\n",
       "      <td>0.000</td>\n",
       "    </tr>\n",
       "    <tr>\n",
       "      <th>Feature_1</th>\n",
       "      <td>0.000</td>\n",
       "      <td>0.176</td>\n",
       "      <td>0.000</td>\n",
       "      <td>0.000</td>\n",
       "    </tr>\n",
       "    <tr>\n",
       "      <th>Feature_2</th>\n",
       "      <td>0.000</td>\n",
       "      <td>0.000</td>\n",
       "      <td>0.026</td>\n",
       "      <td>0.000</td>\n",
       "    </tr>\n",
       "    <tr>\n",
       "      <th>Feature_3</th>\n",
       "      <td>0.000</td>\n",
       "      <td>0.000</td>\n",
       "      <td>0.000</td>\n",
       "      <td>0.011</td>\n",
       "    </tr>\n",
       "  </tbody>\n",
       "</table>\n",
       "</div>"
      ],
      "text/plain": [
       "           Feature_0  Feature_1  Feature_2  Feature_3\n",
       "Feature_0    0.123      0.000      0.000      0.000  \n",
       "Feature_1    0.000      0.176      0.000      0.000  \n",
       "Feature_2    0.000      0.000      0.026      0.000  \n",
       "Feature_3    0.000      0.000      0.000      0.011  "
      ]
     },
     "metadata": {},
     "output_type": "display_data"
    },
    {
     "data": {
      "text/html": [
       "<div>\n",
       "<style scoped>\n",
       "    .dataframe tbody tr th:only-of-type {\n",
       "        vertical-align: middle;\n",
       "    }\n",
       "\n",
       "    .dataframe tbody tr th {\n",
       "        vertical-align: top;\n",
       "    }\n",
       "\n",
       "    .dataframe thead th {\n",
       "        text-align: right;\n",
       "    }\n",
       "</style>\n",
       "<table border=\"1\" class=\"dataframe\">\n",
       "  <thead>\n",
       "    <tr style=\"text-align: center;\">\n",
       "      <th></th>\n",
       "      <th>Feature_0</th>\n",
       "      <th>Feature_1</th>\n",
       "      <th>Feature_2</th>\n",
       "      <th>Feature_3</th>\n",
       "    </tr>\n",
       "  </thead>\n",
       "  <tbody>\n",
       "    <tr>\n",
       "      <th>Feature_0</th>\n",
       "      <td>0.23</td>\n",
       "      <td>0.000</td>\n",
       "      <td>0.000</td>\n",
       "      <td>0.000</td>\n",
       "    </tr>\n",
       "    <tr>\n",
       "      <th>Feature_1</th>\n",
       "      <td>0.00</td>\n",
       "      <td>0.071</td>\n",
       "      <td>0.000</td>\n",
       "      <td>0.000</td>\n",
       "    </tr>\n",
       "    <tr>\n",
       "      <th>Feature_2</th>\n",
       "      <td>0.00</td>\n",
       "      <td>0.000</td>\n",
       "      <td>0.222</td>\n",
       "      <td>0.000</td>\n",
       "    </tr>\n",
       "    <tr>\n",
       "      <th>Feature_3</th>\n",
       "      <td>0.00</td>\n",
       "      <td>0.000</td>\n",
       "      <td>0.000</td>\n",
       "      <td>0.037</td>\n",
       "    </tr>\n",
       "  </tbody>\n",
       "</table>\n",
       "</div>"
      ],
      "text/plain": [
       "           Feature_0  Feature_1  Feature_2  Feature_3\n",
       "Feature_0    0.23       0.000      0.000      0.000  \n",
       "Feature_1    0.00       0.071      0.000      0.000  \n",
       "Feature_2    0.00       0.000      0.222      0.000  \n",
       "Feature_3    0.00       0.000      0.000      0.037  "
      ]
     },
     "metadata": {},
     "output_type": "display_data"
    },
    {
     "data": {
      "text/html": [
       "<div>\n",
       "<style scoped>\n",
       "    .dataframe tbody tr th:only-of-type {\n",
       "        vertical-align: middle;\n",
       "    }\n",
       "\n",
       "    .dataframe tbody tr th {\n",
       "        vertical-align: top;\n",
       "    }\n",
       "\n",
       "    .dataframe thead th {\n",
       "        text-align: right;\n",
       "    }\n",
       "</style>\n",
       "<table border=\"1\" class=\"dataframe\">\n",
       "  <thead>\n",
       "    <tr style=\"text-align: center;\">\n",
       "      <th></th>\n",
       "      <th>Feature_0</th>\n",
       "      <th>Feature_1</th>\n",
       "      <th>Feature_2</th>\n",
       "      <th>Feature_3</th>\n",
       "    </tr>\n",
       "  </thead>\n",
       "  <tbody>\n",
       "    <tr>\n",
       "      <th>Feature_0</th>\n",
       "      <td>0.375</td>\n",
       "      <td>0.000</td>\n",
       "      <td>0.000</td>\n",
       "      <td>0.000</td>\n",
       "    </tr>\n",
       "    <tr>\n",
       "      <th>Feature_1</th>\n",
       "      <td>0.000</td>\n",
       "      <td>0.117</td>\n",
       "      <td>0.000</td>\n",
       "      <td>0.000</td>\n",
       "    </tr>\n",
       "    <tr>\n",
       "      <th>Feature_2</th>\n",
       "      <td>0.000</td>\n",
       "      <td>0.000</td>\n",
       "      <td>0.277</td>\n",
       "      <td>0.000</td>\n",
       "    </tr>\n",
       "    <tr>\n",
       "      <th>Feature_3</th>\n",
       "      <td>0.000</td>\n",
       "      <td>0.000</td>\n",
       "      <td>0.000</td>\n",
       "      <td>0.082</td>\n",
       "    </tr>\n",
       "  </tbody>\n",
       "</table>\n",
       "</div>"
      ],
      "text/plain": [
       "           Feature_0  Feature_1  Feature_2  Feature_3\n",
       "Feature_0    0.375      0.000      0.000      0.000  \n",
       "Feature_1    0.000      0.117      0.000      0.000  \n",
       "Feature_2    0.000      0.000      0.277      0.000  \n",
       "Feature_3    0.000      0.000      0.000      0.082  "
      ]
     },
     "metadata": {},
     "output_type": "display_data"
    }
   ],
   "source": [
    "# Print the estimated priors (per class), means (per class and feature) and covariances(per class and feature)\n",
    "scikit_priors = scikit_gaussian_nb.class_prior_\n",
    "scikit_means = scikit_gaussian_nb.theta_\n",
    "scikit_num_classes = len(scikit_gaussian_nb.classes_)\n",
    "scikit_covariances = np.array([np.diag(scikit_gaussian_nb.var_[i]) for i in range(scikit_num_classes)])\n",
    "scikit_num_features = scikit_gaussian_nb.n_features_in_\n",
    "\n",
    "Report.gaussian_naive_bayes_parameters(\"Scikit-Learn Gaussian Naive Bayes Classifier\", scikit_priors, scikit_means, scikit_covariances, scikit_num_classes, scikit_num_features)\n"
   ]
  },
  {
   "cell_type": "markdown",
   "metadata": {},
   "source": [
    "### Observations"
   ]
  },
  {
   "cell_type": "markdown",
   "metadata": {},
   "source": [
    "TEXT HERE"
   ]
  }
 ],
 "metadata": {
  "kernelspec": {
   "display_name": "Python 3",
   "language": "python",
   "name": "python3"
  },
  "language_info": {
   "codemirror_mode": {
    "name": "ipython",
    "version": 3
   },
   "file_extension": ".py",
   "mimetype": "text/x-python",
   "name": "python",
   "nbconvert_exporter": "python",
   "pygments_lexer": "ipython3",
   "version": "3.11.3"
  }
 },
 "nbformat": 4,
 "nbformat_minor": 2
}
